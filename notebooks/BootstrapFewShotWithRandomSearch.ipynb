{
 "cells": [
  {
   "cell_type": "markdown",
   "id": "2e60e45f-9b07-433a-b3c7-ab8d02ba5afc",
   "metadata": {},
   "source": [
    "# Import Sections"
   ]
  },
  {
   "cell_type": "code",
   "execution_count": 1,
   "id": "94ff876a-d68b-40d8-9539-d59054b5c026",
   "metadata": {},
   "outputs": [
    {
     "name": "stderr",
     "output_type": "stream",
     "text": [
      "/mnt/d/DSPy/.venv/lib/python3.10/site-packages/tqdm/auto.py:21: TqdmWarning: IProgress not found. Please update jupyter and ipywidgets. See https://ipywidgets.readthedocs.io/en/stable/user_install.html\n",
      "  from .autonotebook import tqdm as notebook_tqdm\n"
     ]
    }
   ],
   "source": [
    "import os\n",
    "import random\n",
    "\n",
    "import openai\n",
    "import pandas as pd\n",
    "from datasets import load_dataset\n",
    "\n",
    "import dspy\n",
    "from dspy.evaluate import Evaluate\n",
    "from dspy.teleprompt import BootstrapFewShotWithRandomSearch"
   ]
  },
  {
   "cell_type": "markdown",
   "id": "7050f548-cfe1-4c96-b99b-81fe2bac07c9",
   "metadata": {},
   "source": [
    "# Downloading & Exploring the Dataset\n",
    "The dataset can be seen/understood from here: [Dataset Page](https://huggingface.co/datasets/Divyanshu/indicxnli)"
   ]
  },
  {
   "cell_type": "code",
   "execution_count": 2,
   "id": "00ca23c5-d8fb-45ec-9091-5a4762f27488",
   "metadata": {},
   "outputs": [],
   "source": [
    "# Load Hindi(hi) Dataset. If it's first time, dataset will get downloaded at the location specified against \"cache_dir\" variable\n",
    "dataset = load_dataset(\"Divyanshu/indicxnli\", \"hi\", cache_dir=os.path.join(os.getcwd(), \"datasets\"))"
   ]
  },
  {
   "cell_type": "markdown",
   "id": "2699baf1-03e0-4b1e-a639-3027a847468f",
   "metadata": {},
   "source": [
    "<b>The dataset has three splits(as usual):</b>"
   ]
  },
  {
   "cell_type": "code",
   "execution_count": 3,
   "id": "fee992ef-a3a6-4078-ac68-ec0a92f1e2b9",
   "metadata": {},
   "outputs": [
    {
     "data": {
      "text/plain": [
       "DatasetDict({\n",
       "    train: Dataset({\n",
       "        features: ['premise', 'hypothesis', 'label'],\n",
       "        num_rows: 392702\n",
       "    })\n",
       "    test: Dataset({\n",
       "        features: ['premise', 'hypothesis', 'label'],\n",
       "        num_rows: 5010\n",
       "    })\n",
       "    validation: Dataset({\n",
       "        features: ['premise', 'hypothesis', 'label'],\n",
       "        num_rows: 2490\n",
       "    })\n",
       "})"
      ]
     },
     "execution_count": 3,
     "metadata": {},
     "output_type": "execute_result"
    }
   ],
   "source": [
    "dataset"
   ]
  },
  {
   "cell_type": "markdown",
   "id": "2a0f5038-ecd9-43f4-accc-cd31eca306cc",
   "metadata": {},
   "source": [
    "<b>Viewing one datapoint</b>"
   ]
  },
  {
   "cell_type": "code",
   "execution_count": 4,
   "id": "3b8112c0-0d37-4b3f-97f4-3fb31dfa3a18",
   "metadata": {},
   "outputs": [
    {
     "data": {
      "text/plain": [
       "{'premise': 'फिजियोलॉजिकल सपोर्ट लाइफ सपोर्ट से इस मायने में अलग है कि वह ऊंचाई वाले कक्षों को संभालता है जो 80 हजार फीट तक ऊंचाई वाले कक्षों में पायलटों को चलाता है और उन्हें वापस नीचे लाता है।',\n",
       " 'hypothesis': 'पायलटों का परीक्षण ऊंचाई कक्षों में किया जाता है।',\n",
       " 'label': 0}"
      ]
     },
     "execution_count": 4,
     "metadata": {},
     "output_type": "execute_result"
    }
   ],
   "source": [
    "split = random.choice(['train', 'test', 'validation'])\n",
    "index = random.randint(0, 2490)\n",
    "\n",
    "dataset[split][index]"
   ]
  },
  {
   "cell_type": "markdown",
   "id": "4fbb0059-8448-4d34-a77e-a8ce63b79a3f",
   "metadata": {},
   "source": [
    "<b>Premise</b>:  This is the initial statement or piece of text that provides factual information or context. It serves as the foundation or given information that we assume to be true for the inference task.\n",
    "\n",
    "<b>Hypothesis</b>: This is a statement that may or may not follow logically from the premise. It's the claim we want to test against the premise to determine the logical relationship.\n",
    "\n",
    "<b>Label</b>: This indicates the relationship between the premise and hypothesis:\n",
    "\n",
    "Integer label `0` if hypothesis `entails` the premise, `2` if hypothesis `negates` the premise and `1` otherwise"
   ]
  },
  {
   "cell_type": "markdown",
   "id": "d463d865-9a6e-446a-a96a-8f4ccee23a7a",
   "metadata": {},
   "source": [
    "## Code"
   ]
  },
  {
   "cell_type": "markdown",
   "id": "edd485b5-06cf-436a-a8ec-d8151c59df82",
   "metadata": {},
   "source": [
    "#### Configuring LLM for DSPy"
   ]
  },
  {
   "cell_type": "code",
   "execution_count": 17,
   "id": "5acb9324-a51b-452b-84f7-f98519549ea9",
   "metadata": {},
   "outputs": [],
   "source": [
    "llm = dspy.LM('openai/gpt-4o-mini', api_key = os.getenv('OPENAI_API_KEY'))\n",
    "dspy.configure(lm=llm)"
   ]
  },
  {
   "cell_type": "markdown",
   "id": "e5df1449-5c9c-41b8-8c18-658a4b3f2292",
   "metadata": {},
   "source": [
    "---\n",
    "Creating the `dataloader` function to load and return the datapoints as `dspy.Example` object.\n",
    "\n",
    "#### dspy.Example\n",
    "The core data type for data in DSPy is `Example`. `Example` represents items in training and test datasets. While doing evaluation & optimization runs, an individual datapoint will be of type `Example`.\n",
    "\n",
    "`Example` objects have `with_inputs()` method that marks specific fields as inputs. The rest are labels or metadata."
   ]
  },
  {
   "cell_type": "code",
   "execution_count": 6,
   "id": "8ff3e5bc-5be8-4b89-88d4-efa7771e4476",
   "metadata": {},
   "outputs": [],
   "source": [
    "def load_indicxlni(dataset, split=\"validation\", nos_of_points=-1):\n",
    "    if nos_of_points == -1:\n",
    "        data_df = pd.DataFrame(dataset[split])\n",
    "    else:\n",
    "        data_df = pd.DataFrame(dataset[split]).head(nos_of_points)\n",
    "    \n",
    "    label_map = {\n",
    "        0: \"Yes\",\n",
    "        1: \"Neutral\",\n",
    "        2: \"No\"\n",
    "    }\n",
    "    \n",
    "    def as_dspy_example(row):\n",
    "        return dspy.Example({\n",
    "            \"premise\": row['premise'],\n",
    "            \"hypothesis\": row['hypothesis'],\n",
    "            \"answer\": label_map[row['label']]\n",
    "        }).with_inputs(\"premise\", \"hypothesis\")\n",
    "\n",
    "    return list(data_df.apply(as_dspy_example, axis=1).values)"
   ]
  },
  {
   "cell_type": "markdown",
   "id": "a17d742a-c245-4721-9bed-03daa67c539e",
   "metadata": {},
   "source": [
    "##### Train | Dev | Test Samples"
   ]
  },
  {
   "cell_type": "code",
   "execution_count": 7,
   "id": "73b72ca8-fb74-4120-bddc-6a725cfd069e",
   "metadata": {},
   "outputs": [
    {
     "name": "stdout",
     "output_type": "stream",
     "text": [
      "Size of training set:  50\n",
      "Size of dev set:  10\n"
     ]
    }
   ],
   "source": [
    "all_train_set = load_indicxlni(dataset, \"train\")\n",
    "all_dev_set = load_indicxlni(dataset, \"validation\")\n",
    "\n",
    "random.seed(42)\n",
    "random.shuffle(all_train_set)\n",
    "random.shuffle(all_dev_set)\n",
    "\n",
    "# 50 random train sample and 10 random dev sample\n",
    "train_set, dev_set = all_train_set[: 50], all_dev_set[:10]\n",
    "\n",
    "print(\"Size of training set: \", len(train_set))\n",
    "print(\"Size of dev set: \", len(dev_set))"
   ]
  },
  {
   "cell_type": "code",
   "execution_count": 8,
   "id": "ccacfbdd-8b96-42ee-9c13-b0a0504fde1f",
   "metadata": {},
   "outputs": [
    {
     "name": "stdout",
     "output_type": "stream",
     "text": [
      "Size of test set:  10\n"
     ]
    }
   ],
   "source": [
    "all_test_set = load_indicxlni(dataset, \"test\")\n",
    "\n",
    "random.shuffle(all_test_set)\n",
    "\n",
    "test_set = all_test_set[:10]\n",
    "print(\"Size of test set: \", len(test_set))"
   ]
  },
  {
   "cell_type": "markdown",
   "id": "b31bfab8-e594-4128-9d22-d10dfca9120c",
   "metadata": {},
   "source": [
    "---\n",
    "#### dspy.Signature\n",
    "\n",
    "`Signature` define the input-output behaviour of LLM calls in a declarative way. Let's define a signature for our dataset where `premise` and `hypothesis` would be inputs to the LLM or prompt and `answer` would be returned by the LLM.\n",
    "\n",
    "The `doc_string` serves as the prompt to be sent to the LLM with the variables defined in the class as inputs and outputs."
   ]
  },
  {
   "cell_type": "code",
   "execution_count": 9,
   "id": "647308b5-964b-4678-b1ed-4288a7ac7b09",
   "metadata": {},
   "outputs": [],
   "source": [
    "class IndicXLNISignature(dspy.Signature):\n",
    "    (\"\"\"You are given a premise and a hypothesis.\"\"\"\n",
    "    \"\"\"You must indicate with Yes/No/Neutral answer whether we can logically conclude the hypothesis from the premise.\"\"\")\n",
    "\n",
    "    premise = dspy.InputField()\n",
    "    hypothesis = dspy.InputField()\n",
    "    answer = dspy.OutputField(desc=\"Yes or No or Neutral\")"
   ]
  },
  {
   "cell_type": "markdown",
   "id": "ae9bf5e3-e963-441e-b91e-354c2da50930",
   "metadata": {},
   "source": [
    "Let's use a basic `dspy.Module` to see the prompt created with the above `Signature` class."
   ]
  },
  {
   "cell_type": "code",
   "execution_count": 18,
   "id": "7b1fc1a8-9188-4d17-ba20-b9808a6612f4",
   "metadata": {
    "scrolled": true
   },
   "outputs": [
    {
     "name": "stdout",
     "output_type": "stream",
     "text": [
      "Prediction(\n",
      "    answer='Yes'\n",
      ")\n"
     ]
    }
   ],
   "source": [
    "basic_prediction = dspy.Predict(IndicXLNISignature)\n",
    "\n",
    "prediction = basic_prediction(premise = dataset['train'][5]['premise'], hypothesis = dataset['train'][5]['hypothesis'])\n",
    "print(prediction)"
   ]
  },
  {
   "cell_type": "markdown",
   "id": "6210f1a2-b25b-498c-bc68-dab346a31e17",
   "metadata": {},
   "source": [
    "The prompt sent or used for the above prediction can be obtained and is this:"
   ]
  },
  {
   "cell_type": "code",
   "execution_count": 19,
   "id": "c9b47fb4-0b24-4f0b-8daa-ace30b501eda",
   "metadata": {},
   "outputs": [
    {
     "data": {
      "text/plain": [
       "[{'prompt': None,\n",
       "  'messages': [{'role': 'system',\n",
       "    'content': 'Your input fields are:\\n1. `premise` (str): \\n2. `hypothesis` (str):\\nYour output fields are:\\n1. `answer` (str): Yes or No or Neutral\\nAll interactions will be structured in the following way, with the appropriate values filled in.\\n\\n[[ ## premise ## ]]\\n{premise}\\n\\n[[ ## hypothesis ## ]]\\n{hypothesis}\\n\\n[[ ## answer ## ]]\\n{answer}\\n\\n[[ ## completed ## ]]\\nIn adhering to this structure, your objective is: \\n        You are given a premise and a hypothesis.You must indicate with Yes/No/Neutral answer whether we can logically conclude the hypothesis from the premise.'},\n",
       "   {'role': 'user',\n",
       "    'content': '[[ ## premise ## ]]\\nमेरा वॉकमैन टूट गया तो मैं अब परेशान हूँ.... मुझे बस स्टीरियो को असली जोर से चलाना है\\n\\n[[ ## hypothesis ## ]]\\nमैं परेशान हूं कि मेरा वॉकमैन टूट गया और अब मुझे स्टीरियो को जोर से चलाना पड़ रहा है।\\n\\nRespond with the corresponding output fields, starting with the field `[[ ## answer ## ]]`, and then ending with the marker for `[[ ## completed ## ]]`.'}],\n",
       "  'kwargs': {},\n",
       "  'response': ModelResponse(id='chatcmpl-BkmeTZDSy2hKXQ8WaFLiYVK42jcdQ', created=1750489805, model='gpt-4o-mini-2024-07-18', object='chat.completion', system_fingerprint='fp_34a54ae93c', choices=[Choices(finish_reason='stop', index=0, message=Message(content='[[ ## answer ## ]]\\nYes\\n\\n[[ ## completed ## ]]', role='assistant', tool_calls=None, function_call=None, provider_specific_fields={'refusal': None}, annotations=[]))], usage={}, service_tier='default', cache_hit=None),\n",
       "  'outputs': ['[[ ## answer ## ]]\\nYes\\n\\n[[ ## completed ## ]]'],\n",
       "  'usage': {},\n",
       "  'cost': 4.3349999999999997e-05,\n",
       "  'timestamp': '2025-06-21T12:48:00.445994',\n",
       "  'uuid': '1751bb91-0480-40bf-aa1b-7dc36664dd1f',\n",
       "  'model': 'openai/gpt-4o-mini',\n",
       "  'response_model': 'gpt-4o-mini-2024-07-18',\n",
       "  'model_type': 'chat'}]"
      ]
     },
     "execution_count": 19,
     "metadata": {},
     "output_type": "execute_result"
    }
   ],
   "source": [
    "basic_prediction.history"
   ]
  },
  {
   "cell_type": "markdown",
   "id": "0fc8fbf0-9177-4094-b5e9-f3b790c92931",
   "metadata": {},
   "source": [
    "---\n",
    "#### dspy.Module\n",
    "\n",
    "DSPy Module abstracts prompting technique. We've already seen `dspy.Predict()` module before which is for basic prompting.\n",
    "\n",
    "We will use advanced prompting technique, Chain Of Thought (COT), for this project, and we will use `dspy.ChainOfThought()` module for it."
   ]
  },
  {
   "cell_type": "code",
   "execution_count": 20,
   "id": "c86b97bb-1cab-4b87-825a-6438d202ac69",
   "metadata": {},
   "outputs": [],
   "source": [
    "class IndicXLNICOT(dspy.Module):\n",
    "    def __init__(self):\n",
    "        super().__init__()\n",
    "        self.generate_answer = dspy.ChainOfThought(IndicXLNISignature)\n",
    "\n",
    "    def forward(self, premise, hypothesis):\n",
    "        return self.generate_answer(premise=premise, hypothesis=hypothesis)"
   ]
  },
  {
   "cell_type": "markdown",
   "id": "5d94afbe-5595-4bd9-b38f-76221d3ff16f",
   "metadata": {},
   "source": [
    "Let's see how different this prompt would be as compared to `dspy.Predict()` module."
   ]
  },
  {
   "cell_type": "code",
   "execution_count": 21,
   "id": "fd006910-fce0-4dc4-9db4-3b87b60ee806",
   "metadata": {},
   "outputs": [],
   "source": [
    "cot_zeroshot = IndicXLNICOT()"
   ]
  },
  {
   "cell_type": "code",
   "execution_count": 23,
   "id": "d58ca748-0968-4c36-80e0-a7189db8d8a7",
   "metadata": {},
   "outputs": [
    {
     "name": "stdout",
     "output_type": "stream",
     "text": [
      "Prediction(\n",
      "    reasoning='प्रस्तावना में केवल यह कहा गया है कि स्लेट ने जैक्सन के निष्कर्षों को पढ़ा है, लेकिन यह नहीं बताया गया है कि स्लेट की जैक्सन के निष्कर्षों पर कोई राय थी या नहीं। इसलिए, हम यह नहीं कह सकते कि स्लेट की जैक्सन के निष्कर्षों पर कोई राय थी।',\n",
      "    answer='No'\n",
      ")\n"
     ]
    }
   ],
   "source": [
    "cot_prediction = cot_zeroshot(premise = dataset['train'][7]['premise'], hypothesis = dataset['train'][7]['hypothesis'])\n",
    "print(cot_prediction)"
   ]
  },
  {
   "cell_type": "code",
   "execution_count": 25,
   "id": "b1c66c53-aecc-4b67-aa79-b22fb400a81c",
   "metadata": {},
   "outputs": [
    {
     "data": {
      "text/plain": [
       "{'prompt': None,\n",
       " 'messages': [{'role': 'system',\n",
       "   'content': 'Your input fields are:\\n1. `premise` (str): \\n2. `hypothesis` (str):\\nYour output fields are:\\n1. `reasoning` (str): \\n2. `answer` (str): Yes or No or Neutral\\nAll interactions will be structured in the following way, with the appropriate values filled in.\\n\\n[[ ## premise ## ]]\\n{premise}\\n\\n[[ ## hypothesis ## ]]\\n{hypothesis}\\n\\n[[ ## reasoning ## ]]\\n{reasoning}\\n\\n[[ ## answer ## ]]\\n{answer}\\n\\n[[ ## completed ## ]]\\nIn adhering to this structure, your objective is: \\n        You are given a premise and a hypothesis.You must indicate with Yes/No/Neutral answer whether we can logically conclude the hypothesis from the premise.'},\n",
       "  {'role': 'user',\n",
       "   'content': '[[ ## premise ## ]]\\n(स्लेट के जैक्सन के निष्कर्षों को पढ़ने के लिए पढ़ें।)\\n\\n[[ ## hypothesis ## ]]\\nजैक्सन के निष्कर्षों पर स्लेट की राय थी।\\n\\nRespond with the corresponding output fields, starting with the field `[[ ## reasoning ## ]]`, then `[[ ## answer ## ]]`, and then ending with the marker for `[[ ## completed ## ]]`.'}],\n",
       " 'kwargs': {},\n",
       " 'response': ModelResponse(id='chatcmpl-BkmurNnbPgV1woSdeJa34voGJeDmk', created=1750490821, model='gpt-4o-mini-2024-07-18', object='chat.completion', system_fingerprint='fp_34a54ae93c', choices=[Choices(finish_reason='stop', index=0, message=Message(content='[[ ## reasoning ## ]]\\nप्रस्तावना में केवल यह कहा गया है कि स्लेट ने जैक्सन के निष्कर्षों को पढ़ा है, लेकिन यह नहीं बताया गया है कि स्लेट की जैक्सन के निष्कर्षों पर कोई राय थी या नहीं। इसलिए, हम यह नहीं कह सकते कि स्लेट की जैक्सन के निष्कर्षों पर कोई राय थी। \\n\\n[[ ## answer ## ]]\\nNo\\n\\n[[ ## completed ## ]]', role='assistant', tool_calls=None, function_call=None, provider_specific_fields={'refusal': None}, annotations=[]))], usage=Usage(completion_tokens=94, prompt_tokens=250, total_tokens=344, completion_tokens_details=CompletionTokensDetailsWrapper(accepted_prediction_tokens=0, audio_tokens=0, reasoning_tokens=0, rejected_prediction_tokens=0, text_tokens=None), prompt_tokens_details=PromptTokensDetailsWrapper(audio_tokens=0, cached_tokens=0, text_tokens=None, image_tokens=None)), service_tier='default', cache_hit=None),\n",
       " 'outputs': ['[[ ## reasoning ## ]]\\nप्रस्तावना में केवल यह कहा गया है कि स्लेट ने जैक्सन के निष्कर्षों को पढ़ा है, लेकिन यह नहीं बताया गया है कि स्लेट की जैक्सन के निष्कर्षों पर कोई राय थी या नहीं। इसलिए, हम यह नहीं कह सकते कि स्लेट की जैक्सन के निष्कर्षों पर कोई राय थी। \\n\\n[[ ## answer ## ]]\\nNo\\n\\n[[ ## completed ## ]]'],\n",
       " 'usage': {'completion_tokens': 94,\n",
       "  'prompt_tokens': 250,\n",
       "  'total_tokens': 344,\n",
       "  'completion_tokens_details': CompletionTokensDetailsWrapper(accepted_prediction_tokens=0, audio_tokens=0, reasoning_tokens=0, rejected_prediction_tokens=0, text_tokens=None),\n",
       "  'prompt_tokens_details': PromptTokensDetailsWrapper(audio_tokens=0, cached_tokens=0, text_tokens=None, image_tokens=None)},\n",
       " 'cost': 9.389999999999999e-05,\n",
       " 'timestamp': '2025-06-21T12:57:01.782297',\n",
       " 'uuid': 'b31906b9-ca9e-42e9-9563-4a3ccdd6f1c3',\n",
       " 'model': 'openai/gpt-4o-mini',\n",
       " 'response_model': 'gpt-4o-mini-2024-07-18',\n",
       " 'model_type': 'chat'}"
      ]
     },
     "execution_count": 25,
     "metadata": {},
     "output_type": "execute_result"
    }
   ],
   "source": [
    "cot_zeroshot.history[-1]"
   ]
  },
  {
   "cell_type": "markdown",
   "id": "1c67e01b-66a9-44f8-bc9c-057cb659017f",
   "metadata": {},
   "source": [
    "---\n",
    "#### Metrics & Evaluator\n",
    "\n",
    "In DSPy, metric is a function that will take examples from your data and the output of LLM and return a score that quantifies how good the output is.\n",
    "\n",
    "For simple classification or short-form QA tasks, this could be just \"accuracy\", or \"exact match\" or \"F1-Score\". For long-form outputs, metric could be a smaller DSPy program that checks multiple properties of the output(using AI feedback from LLMs).\n",
    "\n",
    "Simpler metrics are already defined in DSPY:\n",
    "- `dspy.evaluate.metrics.answer_exact_match`\n",
    "- `dspy.evaluate.metrics.answer_passage_match`\n",
    "\n",
    "The metrics could be more complex, e.g. check for multiple properties. For that, write your own function."
   ]
  },
  {
   "cell_type": "code",
   "execution_count": 26,
   "id": "da90c0ae-1284-4ab7-a2cc-c706d0349e49",
   "metadata": {},
   "outputs": [],
   "source": [
    "indicxlni_accuracy = dspy.evaluate.metrics.answer_exact_match"
   ]
  },
  {
   "cell_type": "markdown",
   "id": "98e84dc8-2d15-45b7-9074-c7389dcc8bd7",
   "metadata": {},
   "source": [
    "Once metric is decided/defined, evaluations can be done either in a simple Python loop:\n",
    "\n",
    "```\n",
    "scores = []\n",
    "for x in devset:\n",
    "    pred = program(**x.inputs())\n",
    "    score = metric(x, pred)\n",
    "    scores.append(score)\n",
    "```\n",
    "\n",
    "or can use built-in utilites in `Evaluate` utilities."
   ]
  },
  {
   "cell_type": "code",
   "execution_count": 27,
   "id": "7ce0dae7-fd64-434a-9f40-0d7fbc14f508",
   "metadata": {},
   "outputs": [],
   "source": [
    "evaluator = Evaluate(devset=test_set, num_threads=1, display_progress=True, display_table=len(test_set))"
   ]
  },
  {
   "cell_type": "code",
   "execution_count": 28,
   "id": "868b3981-7002-4fa1-9d58-7caffa4e0522",
   "metadata": {},
   "outputs": [
    {
     "name": "stdout",
     "output_type": "stream",
     "text": [
      "Average Metric: 7.00 / 10 (70.0%): 100%|███████████████████████████████████████████████████████████████████████████████████████████████████████████████████████████████████████| 10/10 [00:00<00:00, 99.98it/s]"
     ]
    },
    {
     "name": "stderr",
     "output_type": "stream",
     "text": [
      "2025/06/21 12:58:29 INFO dspy.evaluate.evaluate: Average Metric: 7 / 10 (70.0%)\n"
     ]
    },
    {
     "name": "stdout",
     "output_type": "stream",
     "text": [
      "\n"
     ]
    },
    {
     "data": {
      "text/html": [
       "<div>\n",
       "<style scoped>\n",
       "    .dataframe tbody tr th:only-of-type {\n",
       "        vertical-align: middle;\n",
       "    }\n",
       "\n",
       "    .dataframe tbody tr th {\n",
       "        vertical-align: top;\n",
       "    }\n",
       "\n",
       "    .dataframe thead th {\n",
       "        text-align: right;\n",
       "    }\n",
       "</style>\n",
       "<table border=\"1\" class=\"dataframe\">\n",
       "  <thead>\n",
       "    <tr style=\"text-align: right;\">\n",
       "      <th></th>\n",
       "      <th>premise</th>\n",
       "      <th>hypothesis</th>\n",
       "      <th>example_answer</th>\n",
       "      <th>reasoning</th>\n",
       "      <th>pred_answer</th>\n",
       "      <th>answer_exact_match</th>\n",
       "    </tr>\n",
       "  </thead>\n",
       "  <tbody>\n",
       "    <tr>\n",
       "      <th>0</th>\n",
       "      <td>सुरक्षा सुनिश्चित करने के लिए जनरेटरों को बंद करना पड़ा और लिफ्ट ब...</td>\n",
       "      <td>जनरेटर एक सुरक्षा जोखिम थे।</td>\n",
       "      <td>Yes</td>\n",
       "      <td>प्रस्तावना में कहा गया है कि सुरक्षा सुनिश्चित करने के लिए जनरेटरो...</td>\n",
       "      <td>Yes</td>\n",
       "      <td>✔️ [True]</td>\n",
       "    </tr>\n",
       "    <tr>\n",
       "      <th>1</th>\n",
       "      <td>भगवान का उल्लेख केवल प्रकृति के भगवान के रूप में किया जाता है, जिस...</td>\n",
       "      <td>लोग अलग-अलग होंगे लेकिन समान होंगे।</td>\n",
       "      <td>Yes</td>\n",
       "      <td>प्रस्तावना में कहा गया है कि सभी लोगों को राष्ट्रों के समुदाय में ...</td>\n",
       "      <td>Yes</td>\n",
       "      <td>✔️ [True]</td>\n",
       "    </tr>\n",
       "    <tr>\n",
       "      <th>2</th>\n",
       "      <td>अप्रैल १८६५ में उस व्यक्ति की हत्या के साथ, जिसने विचारों के एक नए...</td>\n",
       "      <td>इस हमले को रूस ने अंजाम दिया था।</td>\n",
       "      <td>Neutral</td>\n",
       "      <td>प्रस्तावना में यह कहा गया है कि एक व्यक्ति की हत्या अप्रैल 1865 मे...</td>\n",
       "      <td>No</td>\n",
       "      <td></td>\n",
       "    </tr>\n",
       "    <tr>\n",
       "      <th>3</th>\n",
       "      <td>दूसरे शब्दों में, क्या होता है कुछ की तरह है एक जादूगर के अब-तुम-अ...</td>\n",
       "      <td>जो हो रहा है वह हैरान करने वाला है।</td>\n",
       "      <td>Yes</td>\n",
       "      <td>प्रस्तावना में एक जादूगर के कार्यों का उल्लेख किया गया है, जो आमतौ...</td>\n",
       "      <td>Neutral</td>\n",
       "      <td></td>\n",
       "    </tr>\n",
       "    <tr>\n",
       "      <th>4</th>\n",
       "      <td>आप जानते हैं, आप नहीं बच सकते, आप जीवित नहीं रह सकते अगर आपके पास ...</td>\n",
       "      <td>आपको 5000 फीट से अधिक काउंटर प्रेशर की जरूरत होती है।</td>\n",
       "      <td>Neutral</td>\n",
       "      <td>प्रस्तावना में कहा गया है कि ऊंचाइयों पर सांस लेने के लिए काउंटर प...</td>\n",
       "      <td>Neutral</td>\n",
       "      <td>✔️ [True]</td>\n",
       "    </tr>\n",
       "    <tr>\n",
       "      <th>5</th>\n",
       "      <td>एक साधारण उदाहरण के रूप में, मान लीजिए कि काम साझा करने की लागत 10...</td>\n",
       "      <td>आप अनुमान लगा सकते हैं कि काम साझा करने की लागत मूल डाक से कम है।</td>\n",
       "      <td>Yes</td>\n",
       "      <td>प्रस्तावना में कहा गया है कि काम साझा करने की लागत 10a है और मूल ड...</td>\n",
       "      <td>Yes</td>\n",
       "      <td>✔️ [True]</td>\n",
       "    </tr>\n",
       "    <tr>\n",
       "      <th>6</th>\n",
       "      <td>आजादी के बाद यहां संसद बनाने की योजना शून्य हो गई।</td>\n",
       "      <td>इस स्थान के लिए संसद पर दृढ़ता से विचार किया गया था।</td>\n",
       "      <td>Neutral</td>\n",
       "      <td>प्रस्तावना में कहा गया है कि आजादी के बाद संसद बनाने की योजना शून्...</td>\n",
       "      <td>No</td>\n",
       "      <td></td>\n",
       "    </tr>\n",
       "    <tr>\n",
       "      <th>7</th>\n",
       "      <td>हाँ मैं उसे सुन सकता हूँ</td>\n",
       "      <td>मैं उसे सुन नहीं सकता.</td>\n",
       "      <td>No</td>\n",
       "      <td>The premise states \"हाँ मैं उसे सुन सकता हूँ,\" which translates to...</td>\n",
       "      <td>No</td>\n",
       "      <td>✔️ [True]</td>\n",
       "    </tr>\n",
       "    <tr>\n",
       "      <th>8</th>\n",
       "      <td>इस समूह में 23वां संशोधन भी है, जो कोलंबिया जिले में अन्यथा योग्य ...</td>\n",
       "      <td>23वें संशोधन में कहा गया है कि अगर आप कैलिफोर्निया में रहते हैं तो...</td>\n",
       "      <td>No</td>\n",
       "      <td>23वें संशोधन का संदर्भ कोलंबिया जिले में अन्यथा योग्य नागरिकों को ...</td>\n",
       "      <td>No</td>\n",
       "      <td>✔️ [True]</td>\n",
       "    </tr>\n",
       "    <tr>\n",
       "      <th>9</th>\n",
       "      <td>रिसॉर्ट के केंद्र में, भीतरी लैगून के आश्रय वाले पानी में, डॉल्फ़ि...</td>\n",
       "      <td>आप रिसॉर्ट में डोफिन के साथ तैर सकते हैं।</td>\n",
       "      <td>Yes</td>\n",
       "      <td>प्रस्तावना में कहा गया है कि रिसॉर्ट में डॉल्फ़िन कार्यक्रम के साथ...</td>\n",
       "      <td>Yes</td>\n",
       "      <td>✔️ [True]</td>\n",
       "    </tr>\n",
       "  </tbody>\n",
       "</table>\n",
       "</div>"
      ],
      "text/plain": [
       "                                                                 premise  \\\n",
       "0  सुरक्षा सुनिश्चित करने के लिए जनरेटरों को बंद करना पड़ा और लिफ्ट ब...   \n",
       "1  भगवान का उल्लेख केवल प्रकृति के भगवान के रूप में किया जाता है, जिस...   \n",
       "2  अप्रैल १८६५ में उस व्यक्ति की हत्या के साथ, जिसने विचारों के एक नए...   \n",
       "3  दूसरे शब्दों में, क्या होता है कुछ की तरह है एक जादूगर के अब-तुम-अ...   \n",
       "4  आप जानते हैं, आप नहीं बच सकते, आप जीवित नहीं रह सकते अगर आपके पास ...   \n",
       "5  एक साधारण उदाहरण के रूप में, मान लीजिए कि काम साझा करने की लागत 10...   \n",
       "6                     आजादी के बाद यहां संसद बनाने की योजना शून्य हो गई।   \n",
       "7                                               हाँ मैं उसे सुन सकता हूँ   \n",
       "8  इस समूह में 23वां संशोधन भी है, जो कोलंबिया जिले में अन्यथा योग्य ...   \n",
       "9  रिसॉर्ट के केंद्र में, भीतरी लैगून के आश्रय वाले पानी में, डॉल्फ़ि...   \n",
       "\n",
       "                                                              hypothesis  \\\n",
       "0                                            जनरेटर एक सुरक्षा जोखिम थे।   \n",
       "1                                    लोग अलग-अलग होंगे लेकिन समान होंगे।   \n",
       "2                                       इस हमले को रूस ने अंजाम दिया था।   \n",
       "3                                    जो हो रहा है वह हैरान करने वाला है।   \n",
       "4                  आपको 5000 फीट से अधिक काउंटर प्रेशर की जरूरत होती है।   \n",
       "5      आप अनुमान लगा सकते हैं कि काम साझा करने की लागत मूल डाक से कम है।   \n",
       "6                   इस स्थान के लिए संसद पर दृढ़ता से विचार किया गया था।   \n",
       "7                                                 मैं उसे सुन नहीं सकता.   \n",
       "8  23वें संशोधन में कहा गया है कि अगर आप कैलिफोर्निया में रहते हैं तो...   \n",
       "9                              आप रिसॉर्ट में डोफिन के साथ तैर सकते हैं।   \n",
       "\n",
       "  example_answer  \\\n",
       "0            Yes   \n",
       "1            Yes   \n",
       "2        Neutral   \n",
       "3            Yes   \n",
       "4        Neutral   \n",
       "5            Yes   \n",
       "6        Neutral   \n",
       "7             No   \n",
       "8             No   \n",
       "9            Yes   \n",
       "\n",
       "                                                               reasoning  \\\n",
       "0  प्रस्तावना में कहा गया है कि सुरक्षा सुनिश्चित करने के लिए जनरेटरो...   \n",
       "1  प्रस्तावना में कहा गया है कि सभी लोगों को राष्ट्रों के समुदाय में ...   \n",
       "2  प्रस्तावना में यह कहा गया है कि एक व्यक्ति की हत्या अप्रैल 1865 मे...   \n",
       "3  प्रस्तावना में एक जादूगर के कार्यों का उल्लेख किया गया है, जो आमतौ...   \n",
       "4  प्रस्तावना में कहा गया है कि ऊंचाइयों पर सांस लेने के लिए काउंटर प...   \n",
       "5  प्रस्तावना में कहा गया है कि काम साझा करने की लागत 10a है और मूल ड...   \n",
       "6  प्रस्तावना में कहा गया है कि आजादी के बाद संसद बनाने की योजना शून्...   \n",
       "7  The premise states \"हाँ मैं उसे सुन सकता हूँ,\" which translates to...   \n",
       "8  23वें संशोधन का संदर्भ कोलंबिया जिले में अन्यथा योग्य नागरिकों को ...   \n",
       "9  प्रस्तावना में कहा गया है कि रिसॉर्ट में डॉल्फ़िन कार्यक्रम के साथ...   \n",
       "\n",
       "  pred_answer answer_exact_match  \n",
       "0         Yes          ✔️ [True]  \n",
       "1         Yes          ✔️ [True]  \n",
       "2          No                     \n",
       "3     Neutral                     \n",
       "4     Neutral          ✔️ [True]  \n",
       "5         Yes          ✔️ [True]  \n",
       "6          No                     \n",
       "7          No          ✔️ [True]  \n",
       "8          No          ✔️ [True]  \n",
       "9         Yes          ✔️ [True]  "
      ]
     },
     "metadata": {},
     "output_type": "display_data"
    },
    {
     "data": {
      "text/plain": [
       "70.0"
      ]
     },
     "execution_count": 28,
     "metadata": {},
     "output_type": "execute_result"
    }
   ],
   "source": [
    "evaluator(cot_zeroshot, metric=indicxlni_accuracy)"
   ]
  },
  {
   "cell_type": "markdown",
   "id": "027cecd1-0a42-4681-869b-fdfd2cce3383",
   "metadata": {},
   "source": [
    "---\n",
    "### Optimization"
   ]
  },
  {
   "cell_type": "code",
   "execution_count": 29,
   "id": "745e6e33-3572-4574-a290-4152753fc120",
   "metadata": {},
   "outputs": [
    {
     "name": "stdout",
     "output_type": "stream",
     "text": [
      "Going to sample between 1 and 2 traces per predictor.\n",
      "Will attempt to bootstrap 2 candidate sets.\n"
     ]
    }
   ],
   "source": [
    "bootstrap_optimizer = BootstrapFewShotWithRandomSearch(\n",
    "    max_bootstrapped_demos=2,\n",
    "    max_labeled_demos=2,\n",
    "    num_candidate_programs=2,\n",
    "    num_threads=8,\n",
    "    metric=indicxlni_accuracy\n",
    ")"
   ]
  },
  {
   "cell_type": "code",
   "execution_count": 30,
   "id": "23ad1de3-6537-44d5-8e26-3606cb234b3a",
   "metadata": {},
   "outputs": [
    {
     "name": "stdout",
     "output_type": "stream",
     "text": [
      "Average Metric: 5.00 / 10 (50.0%): 100%|██████████████████████████████████████████████████████████████████████████████████████████████████████████████████████████████████████| 10/10 [00:00<00:00, 129.08it/s]"
     ]
    },
    {
     "name": "stderr",
     "output_type": "stream",
     "text": [
      "2025/06/21 12:59:15 INFO dspy.evaluate.evaluate: Average Metric: 5 / 10 (50.0%)\n"
     ]
    },
    {
     "name": "stdout",
     "output_type": "stream",
     "text": [
      "\n",
      "New best score: 50.0 for seed -3\n",
      "Scores so far: [50.0]\n",
      "Best score so far: 50.0\n",
      "Average Metric: 4.00 / 10 (40.0%): 100%|███████████████████████████████████████████████████████████████████████████████████████████████████████████████████████████████████████| 10/10 [00:04<00:00,  2.14it/s]"
     ]
    },
    {
     "name": "stderr",
     "output_type": "stream",
     "text": [
      "2025/06/21 12:59:20 INFO dspy.evaluate.evaluate: Average Metric: 4 / 10 (40.0%)\n"
     ]
    },
    {
     "name": "stdout",
     "output_type": "stream",
     "text": [
      "\n",
      "Scores so far: [50.0, 40.0]\n",
      "Best score so far: 50.0\n"
     ]
    },
    {
     "name": "stderr",
     "output_type": "stream",
     "text": [
      "  8%|█████████████▋                                                                                                                                                             | 4/50 [00:08<01:42,  2.24s/it]\n"
     ]
    },
    {
     "name": "stdout",
     "output_type": "stream",
     "text": [
      "Bootstrapped 2 full traces after 4 examples for up to 1 rounds, amounting to 4 attempts.\n",
      "Average Metric: 5.00 / 10 (50.0%): 100%|███████████████████████████████████████████████████████████████████████████████████████████████████████████████████████████████████████| 10/10 [00:03<00:00,  3.20it/s]"
     ]
    },
    {
     "name": "stderr",
     "output_type": "stream",
     "text": [
      "2025/06/21 12:59:32 INFO dspy.evaluate.evaluate: Average Metric: 5 / 10 (50.0%)\n"
     ]
    },
    {
     "name": "stdout",
     "output_type": "stream",
     "text": [
      "\n",
      "Scores so far: [50.0, 40.0, 50.0]\n",
      "Best score so far: 50.0\n"
     ]
    },
    {
     "name": "stderr",
     "output_type": "stream",
     "text": [
      "  8%|█████████████▋                                                                                                                                                             | 4/50 [00:05<01:04,  1.40s/it]\n"
     ]
    },
    {
     "name": "stdout",
     "output_type": "stream",
     "text": [
      "Bootstrapped 2 full traces after 4 examples for up to 1 rounds, amounting to 4 attempts.\n",
      "Average Metric: 5.00 / 10 (50.0%): 100%|███████████████████████████████████████████████████████████████████████████████████████████████████████████████████████████████████████| 10/10 [00:03<00:00,  3.23it/s]"
     ]
    },
    {
     "name": "stderr",
     "output_type": "stream",
     "text": [
      "2025/06/21 12:59:41 INFO dspy.evaluate.evaluate: Average Metric: 5 / 10 (50.0%)\n"
     ]
    },
    {
     "name": "stdout",
     "output_type": "stream",
     "text": [
      "\n",
      "Scores so far: [50.0, 40.0, 50.0, 50.0]\n",
      "Best score so far: 50.0\n"
     ]
    },
    {
     "name": "stderr",
     "output_type": "stream",
     "text": [
      "  2%|███▍                                                                                                                                                                       | 1/50 [00:01<01:02,  1.27s/it]\n"
     ]
    },
    {
     "name": "stdout",
     "output_type": "stream",
     "text": [
      "Bootstrapped 1 full traces after 1 examples for up to 1 rounds, amounting to 1 attempts.\n",
      "Average Metric: 5.00 / 10 (50.0%): 100%|███████████████████████████████████████████████████████████████████████████████████████████████████████████████████████████████████████| 10/10 [00:02<00:00,  3.34it/s]"
     ]
    },
    {
     "name": "stderr",
     "output_type": "stream",
     "text": [
      "2025/06/21 12:59:45 INFO dspy.evaluate.evaluate: Average Metric: 5 / 10 (50.0%)\n"
     ]
    },
    {
     "name": "stdout",
     "output_type": "stream",
     "text": [
      "\n",
      "Scores so far: [50.0, 40.0, 50.0, 50.0, 50.0]\n",
      "Best score so far: 50.0\n",
      "5 candidate programs found.\n"
     ]
    }
   ],
   "source": [
    "cot_fewshot = bootstrap_optimizer.compile(cot_zeroshot, trainset=train_set, valset=dev_set)"
   ]
  },
  {
   "cell_type": "code",
   "execution_count": 31,
   "id": "95c0d6f3-6a8c-4454-beda-085bf4cd7ec5",
   "metadata": {},
   "outputs": [
    {
     "name": "stdout",
     "output_type": "stream",
     "text": [
      "Average Metric: 7.00 / 10 (70.0%): 100%|██████████████████████████████████████████████████████████████████████████████████████████████████████████████████████████████████████| 10/10 [00:00<00:00, 809.62it/s]"
     ]
    },
    {
     "name": "stderr",
     "output_type": "stream",
     "text": [
      "2025/06/21 13:00:01 INFO dspy.evaluate.evaluate: Average Metric: 7 / 10 (70.0%)\n"
     ]
    },
    {
     "name": "stdout",
     "output_type": "stream",
     "text": [
      "\n"
     ]
    },
    {
     "data": {
      "text/html": [
       "<div>\n",
       "<style scoped>\n",
       "    .dataframe tbody tr th:only-of-type {\n",
       "        vertical-align: middle;\n",
       "    }\n",
       "\n",
       "    .dataframe tbody tr th {\n",
       "        vertical-align: top;\n",
       "    }\n",
       "\n",
       "    .dataframe thead th {\n",
       "        text-align: right;\n",
       "    }\n",
       "</style>\n",
       "<table border=\"1\" class=\"dataframe\">\n",
       "  <thead>\n",
       "    <tr style=\"text-align: right;\">\n",
       "      <th></th>\n",
       "      <th>premise</th>\n",
       "      <th>hypothesis</th>\n",
       "      <th>example_answer</th>\n",
       "      <th>reasoning</th>\n",
       "      <th>pred_answer</th>\n",
       "      <th>answer_exact_match</th>\n",
       "    </tr>\n",
       "  </thead>\n",
       "  <tbody>\n",
       "    <tr>\n",
       "      <th>0</th>\n",
       "      <td>सुरक्षा सुनिश्चित करने के लिए जनरेटरों को बंद करना पड़ा और लिफ्ट ब...</td>\n",
       "      <td>जनरेटर एक सुरक्षा जोखिम थे।</td>\n",
       "      <td>Yes</td>\n",
       "      <td>प्रस्तावना में कहा गया है कि सुरक्षा सुनिश्चित करने के लिए जनरेटरो...</td>\n",
       "      <td>Yes</td>\n",
       "      <td>✔️ [True]</td>\n",
       "    </tr>\n",
       "    <tr>\n",
       "      <th>1</th>\n",
       "      <td>भगवान का उल्लेख केवल प्रकृति के भगवान के रूप में किया जाता है, जिस...</td>\n",
       "      <td>लोग अलग-अलग होंगे लेकिन समान होंगे।</td>\n",
       "      <td>Yes</td>\n",
       "      <td>प्रस्तावना में कहा गया है कि सभी लोगों को राष्ट्रों के समुदाय में ...</td>\n",
       "      <td>Yes</td>\n",
       "      <td>✔️ [True]</td>\n",
       "    </tr>\n",
       "    <tr>\n",
       "      <th>2</th>\n",
       "      <td>अप्रैल १८६५ में उस व्यक्ति की हत्या के साथ, जिसने विचारों के एक नए...</td>\n",
       "      <td>इस हमले को रूस ने अंजाम दिया था।</td>\n",
       "      <td>Neutral</td>\n",
       "      <td>प्रस्तावना में यह कहा गया है कि एक व्यक्ति की हत्या अप्रैल 1865 मे...</td>\n",
       "      <td>No</td>\n",
       "      <td></td>\n",
       "    </tr>\n",
       "    <tr>\n",
       "      <th>3</th>\n",
       "      <td>दूसरे शब्दों में, क्या होता है कुछ की तरह है एक जादूगर के अब-तुम-अ...</td>\n",
       "      <td>जो हो रहा है वह हैरान करने वाला है।</td>\n",
       "      <td>Yes</td>\n",
       "      <td>प्रस्तावना में एक जादूगर के कार्यों का उल्लेख किया गया है, जो आमतौ...</td>\n",
       "      <td>Neutral</td>\n",
       "      <td></td>\n",
       "    </tr>\n",
       "    <tr>\n",
       "      <th>4</th>\n",
       "      <td>आप जानते हैं, आप नहीं बच सकते, आप जीवित नहीं रह सकते अगर आपके पास ...</td>\n",
       "      <td>आपको 5000 फीट से अधिक काउंटर प्रेशर की जरूरत होती है।</td>\n",
       "      <td>Neutral</td>\n",
       "      <td>प्रस्तावना में कहा गया है कि ऊंचाइयों पर सांस लेने के लिए काउंटर प...</td>\n",
       "      <td>Neutral</td>\n",
       "      <td>✔️ [True]</td>\n",
       "    </tr>\n",
       "    <tr>\n",
       "      <th>5</th>\n",
       "      <td>एक साधारण उदाहरण के रूप में, मान लीजिए कि काम साझा करने की लागत 10...</td>\n",
       "      <td>आप अनुमान लगा सकते हैं कि काम साझा करने की लागत मूल डाक से कम है।</td>\n",
       "      <td>Yes</td>\n",
       "      <td>प्रस्तावना में कहा गया है कि काम साझा करने की लागत 10a है और मूल ड...</td>\n",
       "      <td>Yes</td>\n",
       "      <td>✔️ [True]</td>\n",
       "    </tr>\n",
       "    <tr>\n",
       "      <th>6</th>\n",
       "      <td>आजादी के बाद यहां संसद बनाने की योजना शून्य हो गई।</td>\n",
       "      <td>इस स्थान के लिए संसद पर दृढ़ता से विचार किया गया था।</td>\n",
       "      <td>Neutral</td>\n",
       "      <td>प्रस्तावना में कहा गया है कि आजादी के बाद संसद बनाने की योजना शून्...</td>\n",
       "      <td>No</td>\n",
       "      <td></td>\n",
       "    </tr>\n",
       "    <tr>\n",
       "      <th>7</th>\n",
       "      <td>हाँ मैं उसे सुन सकता हूँ</td>\n",
       "      <td>मैं उसे सुन नहीं सकता.</td>\n",
       "      <td>No</td>\n",
       "      <td>The premise states \"हाँ मैं उसे सुन सकता हूँ,\" which translates to...</td>\n",
       "      <td>No</td>\n",
       "      <td>✔️ [True]</td>\n",
       "    </tr>\n",
       "    <tr>\n",
       "      <th>8</th>\n",
       "      <td>इस समूह में 23वां संशोधन भी है, जो कोलंबिया जिले में अन्यथा योग्य ...</td>\n",
       "      <td>23वें संशोधन में कहा गया है कि अगर आप कैलिफोर्निया में रहते हैं तो...</td>\n",
       "      <td>No</td>\n",
       "      <td>23वें संशोधन का संदर्भ कोलंबिया जिले में अन्यथा योग्य नागरिकों को ...</td>\n",
       "      <td>No</td>\n",
       "      <td>✔️ [True]</td>\n",
       "    </tr>\n",
       "    <tr>\n",
       "      <th>9</th>\n",
       "      <td>रिसॉर्ट के केंद्र में, भीतरी लैगून के आश्रय वाले पानी में, डॉल्फ़ि...</td>\n",
       "      <td>आप रिसॉर्ट में डोफिन के साथ तैर सकते हैं।</td>\n",
       "      <td>Yes</td>\n",
       "      <td>प्रस्तावना में कहा गया है कि रिसॉर्ट में डॉल्फ़िन कार्यक्रम के साथ...</td>\n",
       "      <td>Yes</td>\n",
       "      <td>✔️ [True]</td>\n",
       "    </tr>\n",
       "  </tbody>\n",
       "</table>\n",
       "</div>"
      ],
      "text/plain": [
       "                                                                 premise  \\\n",
       "0  सुरक्षा सुनिश्चित करने के लिए जनरेटरों को बंद करना पड़ा और लिफ्ट ब...   \n",
       "1  भगवान का उल्लेख केवल प्रकृति के भगवान के रूप में किया जाता है, जिस...   \n",
       "2  अप्रैल १८६५ में उस व्यक्ति की हत्या के साथ, जिसने विचारों के एक नए...   \n",
       "3  दूसरे शब्दों में, क्या होता है कुछ की तरह है एक जादूगर के अब-तुम-अ...   \n",
       "4  आप जानते हैं, आप नहीं बच सकते, आप जीवित नहीं रह सकते अगर आपके पास ...   \n",
       "5  एक साधारण उदाहरण के रूप में, मान लीजिए कि काम साझा करने की लागत 10...   \n",
       "6                     आजादी के बाद यहां संसद बनाने की योजना शून्य हो गई।   \n",
       "7                                               हाँ मैं उसे सुन सकता हूँ   \n",
       "8  इस समूह में 23वां संशोधन भी है, जो कोलंबिया जिले में अन्यथा योग्य ...   \n",
       "9  रिसॉर्ट के केंद्र में, भीतरी लैगून के आश्रय वाले पानी में, डॉल्फ़ि...   \n",
       "\n",
       "                                                              hypothesis  \\\n",
       "0                                            जनरेटर एक सुरक्षा जोखिम थे।   \n",
       "1                                    लोग अलग-अलग होंगे लेकिन समान होंगे।   \n",
       "2                                       इस हमले को रूस ने अंजाम दिया था।   \n",
       "3                                    जो हो रहा है वह हैरान करने वाला है।   \n",
       "4                  आपको 5000 फीट से अधिक काउंटर प्रेशर की जरूरत होती है।   \n",
       "5      आप अनुमान लगा सकते हैं कि काम साझा करने की लागत मूल डाक से कम है।   \n",
       "6                   इस स्थान के लिए संसद पर दृढ़ता से विचार किया गया था।   \n",
       "7                                                 मैं उसे सुन नहीं सकता.   \n",
       "8  23वें संशोधन में कहा गया है कि अगर आप कैलिफोर्निया में रहते हैं तो...   \n",
       "9                              आप रिसॉर्ट में डोफिन के साथ तैर सकते हैं।   \n",
       "\n",
       "  example_answer  \\\n",
       "0            Yes   \n",
       "1            Yes   \n",
       "2        Neutral   \n",
       "3            Yes   \n",
       "4        Neutral   \n",
       "5            Yes   \n",
       "6        Neutral   \n",
       "7             No   \n",
       "8             No   \n",
       "9            Yes   \n",
       "\n",
       "                                                               reasoning  \\\n",
       "0  प्रस्तावना में कहा गया है कि सुरक्षा सुनिश्चित करने के लिए जनरेटरो...   \n",
       "1  प्रस्तावना में कहा गया है कि सभी लोगों को राष्ट्रों के समुदाय में ...   \n",
       "2  प्रस्तावना में यह कहा गया है कि एक व्यक्ति की हत्या अप्रैल 1865 मे...   \n",
       "3  प्रस्तावना में एक जादूगर के कार्यों का उल्लेख किया गया है, जो आमतौ...   \n",
       "4  प्रस्तावना में कहा गया है कि ऊंचाइयों पर सांस लेने के लिए काउंटर प...   \n",
       "5  प्रस्तावना में कहा गया है कि काम साझा करने की लागत 10a है और मूल ड...   \n",
       "6  प्रस्तावना में कहा गया है कि आजादी के बाद संसद बनाने की योजना शून्...   \n",
       "7  The premise states \"हाँ मैं उसे सुन सकता हूँ,\" which translates to...   \n",
       "8  23वें संशोधन का संदर्भ कोलंबिया जिले में अन्यथा योग्य नागरिकों को ...   \n",
       "9  प्रस्तावना में कहा गया है कि रिसॉर्ट में डॉल्फ़िन कार्यक्रम के साथ...   \n",
       "\n",
       "  pred_answer answer_exact_match  \n",
       "0         Yes          ✔️ [True]  \n",
       "1         Yes          ✔️ [True]  \n",
       "2          No                     \n",
       "3     Neutral                     \n",
       "4     Neutral          ✔️ [True]  \n",
       "5         Yes          ✔️ [True]  \n",
       "6          No                     \n",
       "7          No          ✔️ [True]  \n",
       "8          No          ✔️ [True]  \n",
       "9         Yes          ✔️ [True]  "
      ]
     },
     "metadata": {},
     "output_type": "display_data"
    },
    {
     "data": {
      "text/plain": [
       "70.0"
      ]
     },
     "execution_count": 31,
     "metadata": {},
     "output_type": "execute_result"
    }
   ],
   "source": [
    "evaluator(cot_fewshot, metric=indicxlni_accuracy)"
   ]
  },
  {
   "cell_type": "code",
   "execution_count": 37,
   "id": "f7da7715-5bbe-48d8-84f0-377df5e51ea9",
   "metadata": {},
   "outputs": [
    {
     "data": {
      "text/plain": [
       "32"
      ]
     },
     "execution_count": 37,
     "metadata": {},
     "output_type": "execute_result"
    }
   ],
   "source": [
    "len(cot_fewshot.history)"
   ]
  },
  {
   "cell_type": "code",
   "execution_count": 36,
   "id": "8696dd5c-006b-45bd-bc21-c728eddc2065",
   "metadata": {},
   "outputs": [
    {
     "data": {
      "text/plain": [
       "<bound method Module.predictors of generate_answer.predict = Predict(StringSignature(premise, hypothesis -> reasoning, answer\n",
       "    instructions='You are given a premise and a hypothesis.You must indicate with Yes/No/Neutral answer whether we can logically conclude the hypothesis from the premise.'\n",
       "    premise = Field(annotation=str required=True json_schema_extra={'__dspy_field_type': 'input', 'prefix': 'Premise:', 'desc': '${premise}'})\n",
       "    hypothesis = Field(annotation=str required=True json_schema_extra={'__dspy_field_type': 'input', 'prefix': 'Hypothesis:', 'desc': '${hypothesis}'})\n",
       "    reasoning = Field(annotation=str required=True json_schema_extra={'prefix': \"Reasoning: Let's think step by step in order to\", 'desc': '${reasoning}', '__dspy_field_type': 'output'})\n",
       "    answer = Field(annotation=str required=True json_schema_extra={'desc': 'Yes or No or Neutral', '__dspy_field_type': 'output', 'prefix': 'Answer:'})\n",
       "))>"
      ]
     },
     "execution_count": 36,
     "metadata": {},
     "output_type": "execute_result"
    }
   ],
   "source": [
    "cot_fewshot.b"
   ]
  },
  {
   "cell_type": "code",
   "execution_count": 38,
   "id": "80d99c6d-f5f1-49e2-994b-661e8f18e4a1",
   "metadata": {},
   "outputs": [
    {
     "data": {
      "text/plain": [
       "{'prompt': None,\n",
       " 'messages': [{'role': 'system',\n",
       "   'content': 'Your input fields are:\\n1. `premise` (str): \\n2. `hypothesis` (str):\\nYour output fields are:\\n1. `reasoning` (str): \\n2. `answer` (str): Yes or No or Neutral\\nAll interactions will be structured in the following way, with the appropriate values filled in.\\n\\n[[ ## premise ## ]]\\n{premise}\\n\\n[[ ## hypothesis ## ]]\\n{hypothesis}\\n\\n[[ ## reasoning ## ]]\\n{reasoning}\\n\\n[[ ## answer ## ]]\\n{answer}\\n\\n[[ ## completed ## ]]\\nIn adhering to this structure, your objective is: \\n        You are given a premise and a hypothesis.You must indicate with Yes/No/Neutral answer whether we can logically conclude the hypothesis from the premise.'},\n",
       "  {'role': 'user',\n",
       "   'content': '[[ ## premise ## ]]\\nरिसॉर्ट के केंद्र में, भीतरी लैगून के आश्रय वाले पानी में, डॉल्फ़िन कार्यक्रम के साथ एक तैराकी है।\\n\\n[[ ## hypothesis ## ]]\\nआप रिसॉर्ट में डोफिन के साथ तैर सकते हैं।\\n\\nRespond with the corresponding output fields, starting with the field `[[ ## reasoning ## ]]`, then `[[ ## answer ## ]]`, and then ending with the marker for `[[ ## completed ## ]]`.'}],\n",
       " 'kwargs': {},\n",
       " 'response': ModelResponse(id='chatcmpl-BikofUTFQiSMyINpIVx7JxAKRK6I2', created=1750006093, model='gpt-4o-mini-2024-07-18', object='chat.completion', system_fingerprint='fp_34a54ae93c', choices=[Choices(finish_reason='stop', index=0, message=Message(content='[[ ## reasoning ## ]]\\nप्रस्तावना में कहा गया है कि रिसॉर्ट में डॉल्फ़िन कार्यक्रम के साथ तैराकी है, जिसका अर्थ है कि डॉल्फ़िन के साथ तैरने का अवसर उपलब्ध है। इसलिए, यह निष्कर्ष निकाला जा सकता है कि आप रिसॉर्ट में डॉल्फ़िन के साथ तैर सकते हैं।\\n\\n[[ ## answer ## ]]\\nYes\\n\\n[[ ## completed ## ]]', role='assistant', tool_calls=None, function_call=None, provider_specific_fields={'refusal': None}, annotations=[]))], usage={}, service_tier='default'),\n",
       " 'outputs': ['[[ ## reasoning ## ]]\\nप्रस्तावना में कहा गया है कि रिसॉर्ट में डॉल्फ़िन कार्यक्रम के साथ तैराकी है, जिसका अर्थ है कि डॉल्फ़िन के साथ तैरने का अवसर उपलब्ध है। इसलिए, यह निष्कर्ष निकाला जा सकता है कि आप रिसॉर्ट में डॉल्फ़िन के साथ तैर सकते हैं।\\n\\n[[ ## answer ## ]]\\nYes\\n\\n[[ ## completed ## ]]'],\n",
       " 'usage': {},\n",
       " 'cost': 9.495e-05,\n",
       " 'timestamp': '2025-06-21T12:58:29.909458',\n",
       " 'uuid': '489b5f03-24bd-4e4f-bfa9-5d9299ab07d3',\n",
       " 'model': 'openai/gpt-4o-mini',\n",
       " 'response_model': 'gpt-4o-mini-2024-07-18',\n",
       " 'model_type': 'chat'}"
      ]
     },
     "execution_count": 38,
     "metadata": {},
     "output_type": "execute_result"
    }
   ],
   "source": [
    "cot_zeroshot.history[-1]"
   ]
  },
  {
   "cell_type": "code",
   "execution_count": null,
   "id": "75fa7cf0-0b34-4896-a123-cd7148f80411",
   "metadata": {},
   "outputs": [],
   "source": []
  }
 ],
 "metadata": {
  "kernelspec": {
   "display_name": "Python 3 (ipykernel)",
   "language": "python",
   "name": "python3"
  },
  "language_info": {
   "codemirror_mode": {
    "name": "ipython",
    "version": 3
   },
   "file_extension": ".py",
   "mimetype": "text/x-python",
   "name": "python",
   "nbconvert_exporter": "python",
   "pygments_lexer": "ipython3",
   "version": "3.10.12"
  }
 },
 "nbformat": 4,
 "nbformat_minor": 5
}
