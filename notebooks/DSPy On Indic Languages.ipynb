{
 "cells": [
  {
   "cell_type": "markdown",
   "id": "2e60e45f-9b07-433a-b3c7-ab8d02ba5afc",
   "metadata": {},
   "source": [
    "# Import Sections"
   ]
  },
  {
   "cell_type": "code",
   "execution_count": 2,
   "id": "94ff876a-d68b-40d8-9539-d59054b5c026",
   "metadata": {},
   "outputs": [],
   "source": [
    "import os\n",
    "import random\n",
    "\n",
    "import openai\n",
    "import pandas as pd\n",
    "from datasets import load_dataset\n",
    "\n",
    "import dspy\n",
    "from dspy.evaluate import Evaluate\n",
    "from dspy.teleprompt import BootstrapFewShotWithRandomSearch"
   ]
  },
  {
   "cell_type": "markdown",
   "id": "7050f548-cfe1-4c96-b99b-81fe2bac07c9",
   "metadata": {},
   "source": [
    "# Downloading & Exploring the Dataset\n",
    "The dataset can be seen/understood from here: [Dataset Page](https://huggingface.co/datasets/Divyanshu/indicxnli)"
   ]
  },
  {
   "cell_type": "code",
   "execution_count": 10,
   "id": "00ca23c5-d8fb-45ec-9091-5a4762f27488",
   "metadata": {},
   "outputs": [],
   "source": [
    "# Load Hindi(hi) Dataset. If it's first time, dataset will get downloaded at the location specified against \"cache_dir\" variable\n",
    "dataset = load_dataset(\"Divyanshu/indicxnli\", \"hi\", cache_dir=os.path.join(os.getcwd(), \"datasets\"))"
   ]
  },
  {
   "cell_type": "markdown",
   "id": "2699baf1-03e0-4b1e-a639-3027a847468f",
   "metadata": {},
   "source": [
    "<b>The dataset has three splits(as usual):</b>"
   ]
  },
  {
   "cell_type": "code",
   "execution_count": 5,
   "id": "fee992ef-a3a6-4078-ac68-ec0a92f1e2b9",
   "metadata": {},
   "outputs": [
    {
     "data": {
      "text/plain": [
       "DatasetDict({\n",
       "    train: Dataset({\n",
       "        features: ['premise', 'hypothesis', 'label'],\n",
       "        num_rows: 392702\n",
       "    })\n",
       "    test: Dataset({\n",
       "        features: ['premise', 'hypothesis', 'label'],\n",
       "        num_rows: 5010\n",
       "    })\n",
       "    validation: Dataset({\n",
       "        features: ['premise', 'hypothesis', 'label'],\n",
       "        num_rows: 2490\n",
       "    })\n",
       "})"
      ]
     },
     "execution_count": 5,
     "metadata": {},
     "output_type": "execute_result"
    }
   ],
   "source": [
    "dataset"
   ]
  },
  {
   "cell_type": "markdown",
   "id": "2a0f5038-ecd9-43f4-accc-cd31eca306cc",
   "metadata": {},
   "source": [
    "<b>Viewing one datapoint</b>"
   ]
  },
  {
   "cell_type": "code",
   "execution_count": 15,
   "id": "3b8112c0-0d37-4b3f-97f4-3fb31dfa3a18",
   "metadata": {},
   "outputs": [
    {
     "data": {
      "text/plain": [
       "{'premise': 'और बीस साल पहले देखते हैं मुझे लगता है कि हम अभी क्या वे उह यौन क्रांति जहां uh गोली और uh uh के बाद कह रहे थे में मिलने के लिए शुरू कर रहे थे',\n",
       " 'hypothesis': 'जब 1970 के दशक में सेक्स रिवोल्यूशन शुरू हुआ तो मैंने गोली खानी शुरू कर दी।',\n",
       " 'label': 1}"
      ]
     },
     "execution_count": 15,
     "metadata": {},
     "output_type": "execute_result"
    }
   ],
   "source": [
    "split = random.choice(['train', 'test', 'validation'])\n",
    "index = random.randint(0, 2490)\n",
    "\n",
    "dataset[split][index]"
   ]
  },
  {
   "cell_type": "markdown",
   "id": "4fbb0059-8448-4d34-a77e-a8ce63b79a3f",
   "metadata": {},
   "source": [
    "<b>Premise</b>:  This is the initial statement or piece of text that provides factual information or context. It serves as the foundation or given information that we assume to be true for the inference task.\n",
    "\n",
    "<b>Hypothesis</b>: This is a statement that may or may not follow logically from the premise. It's the claim we want to test against the premise to determine the logical relationship.\n",
    "\n",
    "<b>Label</b>: This indicates the relationship between the premise and hypothesis:\n",
    "\n",
    "Integer label `0` if hypothesis `entails` the premise, `2` if hypothesis `negates` the premise and `1` otherwise"
   ]
  },
  {
   "cell_type": "markdown",
   "id": "d463d865-9a6e-446a-a96a-8f4ccee23a7a",
   "metadata": {},
   "source": [
    "## Code"
   ]
  },
  {
   "cell_type": "markdown",
   "id": "edd485b5-06cf-436a-a8ec-d8151c59df82",
   "metadata": {},
   "source": [
    "#### Configuring LLM for DSPy"
   ]
  },
  {
   "cell_type": "code",
   "execution_count": 57,
   "id": "5acb9324-a51b-452b-84f7-f98519549ea9",
   "metadata": {},
   "outputs": [],
   "source": [
    "llm = dspy.LM('openai/gpt-4o-mini', api_key = os.getenv('OPENAI_API_KEY'))\n",
    "dspy.configure(lm=llm)"
   ]
  },
  {
   "cell_type": "markdown",
   "id": "e5df1449-5c9c-41b8-8c18-658a4b3f2292",
   "metadata": {},
   "source": [
    "---\n",
    "Creating the `dataloader` function to load and return the datapoints as `dspy.Example` object.\n",
    "\n",
    "#### dspy.Example\n",
    "The core data type for data in DSPy is `Example`. `Example` represents items in training and test datasets. While doing evaluation & optimization runs, an individual datapoint will be of type `Example`.\n",
    "\n",
    "`Example` objects have `with_inputs()` method that marks specific fields as inputs. The rest are labels or metadata."
   ]
  },
  {
   "cell_type": "code",
   "execution_count": 41,
   "id": "8ff3e5bc-5be8-4b89-88d4-efa7771e4476",
   "metadata": {},
   "outputs": [],
   "source": [
    "def load_indicxlni(dataset, split=\"validation\", nos_of_points=-1):\n",
    "    if nos_of_points == -1:\n",
    "        data_df = pd.DataFrame(dataset[split])\n",
    "    else:\n",
    "        data_df = pd.DataFrame(dataset[split]).head(nos_of_points)\n",
    "    \n",
    "    label_map = {\n",
    "        0: \"Yes\",\n",
    "        1: \"Neutral\",\n",
    "        2: \"No\"\n",
    "    }\n",
    "    \n",
    "    def as_dspy_example(row):\n",
    "        return dspy.Example({\n",
    "            \"premise\": row['premise'],\n",
    "            \"hypothesis\": row['hypothesis'],\n",
    "            \"answer\": label_map[row['label']]\n",
    "        }).with_inputs(\"premise\", \"hypothesis\")\n",
    "\n",
    "    return list(data_df.apply(as_dspy_example, axis=1).values)"
   ]
  },
  {
   "cell_type": "markdown",
   "id": "a17d742a-c245-4721-9bed-03daa67c539e",
   "metadata": {},
   "source": [
    "##### Train | Dev | Test Samples"
   ]
  },
  {
   "cell_type": "code",
   "execution_count": 43,
   "id": "73b72ca8-fb74-4120-bddc-6a725cfd069e",
   "metadata": {},
   "outputs": [
    {
     "name": "stdout",
     "output_type": "stream",
     "text": [
      "Size of training set:  50\n",
      "Size of dev set:  10\n"
     ]
    }
   ],
   "source": [
    "all_train_set = load_indicxlni(dataset, \"train\")\n",
    "all_dev_set = load_indicxlni(dataset, \"validation\")\n",
    "\n",
    "random.seed(42)\n",
    "random.shuffle(all_train_set)\n",
    "random.shuffle(all_dev_set)\n",
    "\n",
    "# 50 random train sample and 10 random dev sample\n",
    "train_set, dev_set = all_train_set[: 50], all_dev_set[:10]\n",
    "\n",
    "print(\"Size of training set: \", len(train_set))\n",
    "print(\"Size of dev set: \", len(dev_set))"
   ]
  },
  {
   "cell_type": "code",
   "execution_count": 44,
   "id": "ccacfbdd-8b96-42ee-9c13-b0a0504fde1f",
   "metadata": {},
   "outputs": [
    {
     "name": "stdout",
     "output_type": "stream",
     "text": [
      "Size of test set:  10\n"
     ]
    }
   ],
   "source": [
    "all_test_set = load_indicxlni(dataset, \"test\")\n",
    "\n",
    "random.shuffle(all_test_set)\n",
    "\n",
    "test_set = all_test_set[:10]\n",
    "print(\"Size of test set: \", len(test_set))"
   ]
  },
  {
   "cell_type": "markdown",
   "id": "b31bfab8-e594-4128-9d22-d10dfca9120c",
   "metadata": {},
   "source": [
    "---\n",
    "#### dspy.Signature\n",
    "\n",
    "`Signature` define the input-output behaviour of LLM calls in a declarative way. Let's define a signature for our dataset where `premise` and `hypothesis` would be inputs to the LLM or prompt and `answer` would be returned by the LLM.\n",
    "\n",
    "The `doc_string` serves as the prompt to be sent to the LLM with the variables defined in the class as inputs and outputs."
   ]
  },
  {
   "cell_type": "code",
   "execution_count": 46,
   "id": "647308b5-964b-4678-b1ed-4288a7ac7b09",
   "metadata": {},
   "outputs": [],
   "source": [
    "class IndicXLNISignature(dspy.Signature):\n",
    "    (\"\"\"You are given a premise and a hypothesis.\"\"\"\n",
    "    \"\"\"You must indicate with Yes/No/Neutral answer whether we can logically conclude the hypothesis from the premise.\"\"\")\n",
    "\n",
    "    premise = dspy.InputField()\n",
    "    hypothesis = dspy.InputField()\n",
    "    answer = dspy.OutputField(desc=\"Yes or No or Neutral\")"
   ]
  },
  {
   "cell_type": "markdown",
   "id": "ae9bf5e3-e963-441e-b91e-354c2da50930",
   "metadata": {},
   "source": [
    "Let's use a basic `dspy.Module` to see the prompt created with the above `Signature` class."
   ]
  },
  {
   "cell_type": "code",
   "execution_count": 65,
   "id": "7b1fc1a8-9188-4d17-ba20-b9808a6612f4",
   "metadata": {},
   "outputs": [
    {
     "name": "stdout",
     "output_type": "stream",
     "text": [
      "Prediction(\n",
      "    answer='Yes'\n",
      ")\n"
     ]
    }
   ],
   "source": [
    "basic_prediction = dspy.Predict(IndicXLNISignature)\n",
    "\n",
    "prediction = basic_prediction(premise = dataset['train'][2]['premise'], hypothesis = dataset['train'][2]['hypothesis'])\n",
    "print(prediction)"
   ]
  },
  {
   "cell_type": "markdown",
   "id": "6210f1a2-b25b-498c-bc68-dab346a31e17",
   "metadata": {},
   "source": [
    "The prompt sent or used for the above prediction can be obtained and is this:"
   ]
  },
  {
   "cell_type": "code",
   "execution_count": 67,
   "id": "c9b47fb4-0b24-4f0b-8daa-ace30b501eda",
   "metadata": {},
   "outputs": [
    {
     "name": "stdout",
     "output_type": "stream",
     "text": [
      "\n",
      "\n",
      "\n",
      "\n",
      "\u001b[34m[2025-06-15T17:08:49.109041]\u001b[0m\n",
      "\n",
      "\u001b[31mSystem message:\u001b[0m\n",
      "\n",
      "Your input fields are:\n",
      "1. `premise` (str): \n",
      "2. `hypothesis` (str):\n",
      "Your output fields are:\n",
      "1. `answer` (str): Yes or No or Neutral\n",
      "All interactions will be structured in the following way, with the appropriate values filled in.\n",
      "\n",
      "[[ ## premise ## ]]\n",
      "{premise}\n",
      "\n",
      "[[ ## hypothesis ## ]]\n",
      "{hypothesis}\n",
      "\n",
      "[[ ## answer ## ]]\n",
      "{answer}\n",
      "\n",
      "[[ ## completed ## ]]\n",
      "In adhering to this structure, your objective is: \n",
      "        You are given a premise and a hypothesis.You must indicate with Yes/No/Neutral answer whether we can logically conclude the hypothesis from the premise.\n",
      "\n",
      "\n",
      "\u001b[31mUser message:\u001b[0m\n",
      "\n",
      "[[ ## premise ## ]]\n",
      "हमारी संख्या में से एक आपके निर्देशों का बारीकी से पालन करेगी।\n",
      "\n",
      "[[ ## hypothesis ## ]]\n",
      "मेरी टीम का एक सदस्य आपके आदेशों को बहुत सटीकता के साथ निष्पादित करेगा।\n",
      "\n",
      "Respond with the corresponding output fields, starting with the field `[[ ## answer ## ]]`, and then ending with the marker for `[[ ## completed ## ]]`.\n",
      "\n",
      "\n",
      "\u001b[31mResponse:\u001b[0m\n",
      "\n",
      "\u001b[32m[[ ## answer ## ]]\n",
      "Yes\n",
      "\n",
      "[[ ## completed ## ]]\u001b[0m\n",
      "\n",
      "\n",
      "\n",
      "\n",
      "\n"
     ]
    }
   ],
   "source": [
    "basic_prediction.inspect_history(n=1)"
   ]
  },
  {
   "cell_type": "markdown",
   "id": "0fc8fbf0-9177-4094-b5e9-f3b790c92931",
   "metadata": {},
   "source": [
    "---\n",
    "#### dspy.Module\n",
    "\n",
    "DSPy Module abstracts prompting technique. We've already seen `dspy.Predict()` module before which is for basic prompting.\n",
    "\n",
    "We will use advanced prompting technique, Chain Of Thought (COT), for this project, and we will use `dspy.ChainOfThought()` module for it."
   ]
  },
  {
   "cell_type": "code",
   "execution_count": 68,
   "id": "c86b97bb-1cab-4b87-825a-6438d202ac69",
   "metadata": {},
   "outputs": [],
   "source": [
    "class IndicXLNICOT(dspy.Module):\n",
    "    def __init__(self):\n",
    "        super().__init__()\n",
    "        self.generate_answer = dspy.ChainOfThought(IndicXLNISignature)\n",
    "\n",
    "    def forward(self, premise, hypothesis):\n",
    "        return self.generate_answer(premise=premise, hypothesis=hypothesis)"
   ]
  },
  {
   "cell_type": "markdown",
   "id": "5d94afbe-5595-4bd9-b38f-76221d3ff16f",
   "metadata": {},
   "source": [
    "Let's see how different this prompt would be as compared to `dspy.Predict()` module."
   ]
  },
  {
   "cell_type": "code",
   "execution_count": 69,
   "id": "fd006910-fce0-4dc4-9db4-3b87b60ee806",
   "metadata": {},
   "outputs": [],
   "source": [
    "cot_zeroshot = IndicXLNICOT()"
   ]
  },
  {
   "cell_type": "code",
   "execution_count": 70,
   "id": "d58ca748-0968-4c36-80e0-a7189db8d8a7",
   "metadata": {},
   "outputs": [
    {
     "name": "stdout",
     "output_type": "stream",
     "text": [
      "Prediction(\n",
      "    reasoning='प्रस्तावना में कहा गया है कि \"हमारी संख्या में से एक आपके निर्देशों का बारीकी से पालन करेगी,\" जिसका अर्थ है कि एक सदस्य आपके निर्देशों का पालन करेगा। जबकि परिकल्पना में कहा गया है कि \"मेरी टीम का एक सदस्य आपके आदेशों को बहुत सटीकता के साथ निष्पादित करेगा,\" यह भी एक सदस्य के आदेशों का पालन करने की बात करता है। दोनों में एक सदस्य के निर्देशों का पालन करने की बात की गई है, लेकिन परिकल्पना में \"बहुत सटीकता\" का उल्लेख है, जो कि प्रस्तावना में नहीं है। इसलिए, हम यह नहीं कह सकते कि परिकल्पना पूरी तरह से प्रस्तावना से निष्कर्षित होती है।',\n",
      "    answer='Neutral'\n",
      ")\n"
     ]
    }
   ],
   "source": [
    "cot_prediction = cot_zeroshot(premise = dataset['train'][2]['premise'], hypothesis = dataset['train'][2]['hypothesis'])\n",
    "print(cot_prediction)"
   ]
  },
  {
   "cell_type": "code",
   "execution_count": 71,
   "id": "b1c66c53-aecc-4b67-aa79-b22fb400a81c",
   "metadata": {},
   "outputs": [
    {
     "name": "stdout",
     "output_type": "stream",
     "text": [
      "\n",
      "\n",
      "\n",
      "\n",
      "\u001b[34m[2025-06-15T18:18:43.539758]\u001b[0m\n",
      "\n",
      "\u001b[31mSystem message:\u001b[0m\n",
      "\n",
      "Your input fields are:\n",
      "1. `premise` (str): \n",
      "2. `hypothesis` (str):\n",
      "Your output fields are:\n",
      "1. `reasoning` (str): \n",
      "2. `answer` (str): Yes or No or Neutral\n",
      "All interactions will be structured in the following way, with the appropriate values filled in.\n",
      "\n",
      "[[ ## premise ## ]]\n",
      "{premise}\n",
      "\n",
      "[[ ## hypothesis ## ]]\n",
      "{hypothesis}\n",
      "\n",
      "[[ ## reasoning ## ]]\n",
      "{reasoning}\n",
      "\n",
      "[[ ## answer ## ]]\n",
      "{answer}\n",
      "\n",
      "[[ ## completed ## ]]\n",
      "In adhering to this structure, your objective is: \n",
      "        You are given a premise and a hypothesis.You must indicate with Yes/No/Neutral answer whether we can logically conclude the hypothesis from the premise.\n",
      "\n",
      "\n",
      "\u001b[31mUser message:\u001b[0m\n",
      "\n",
      "[[ ## premise ## ]]\n",
      "हमारी संख्या में से एक आपके निर्देशों का बारीकी से पालन करेगी।\n",
      "\n",
      "[[ ## hypothesis ## ]]\n",
      "मेरी टीम का एक सदस्य आपके आदेशों को बहुत सटीकता के साथ निष्पादित करेगा।\n",
      "\n",
      "Respond with the corresponding output fields, starting with the field `[[ ## reasoning ## ]]`, then `[[ ## answer ## ]]`, and then ending with the marker for `[[ ## completed ## ]]`.\n",
      "\n",
      "\n",
      "\u001b[31mResponse:\u001b[0m\n",
      "\n",
      "\u001b[32m[[ ## reasoning ## ]]\n",
      "प्रस्तावना में कहा गया है कि \"हमारी संख्या में से एक आपके निर्देशों का बारीकी से पालन करेगी,\" जिसका अर्थ है कि एक सदस्य आपके निर्देशों का पालन करेगा। जबकि परिकल्पना में कहा गया है कि \"मेरी टीम का एक सदस्य आपके आदेशों को बहुत सटीकता के साथ निष्पादित करेगा,\" यह भी एक सदस्य के आदेशों का पालन करने की बात करता है। दोनों में एक सदस्य के निर्देशों का पालन करने की बात की गई है, लेकिन परिकल्पना में \"बहुत सटीकता\" का उल्लेख है, जो कि प्रस्तावना में नहीं है। इसलिए, हम यह नहीं कह सकते कि परिकल्पना पूरी तरह से प्रस्तावना से निष्कर्षित होती है।\n",
      "\n",
      "[[ ## answer ## ]]\n",
      "Neutral\n",
      "\n",
      "[[ ## completed ## ]]\u001b[0m\n",
      "\n",
      "\n",
      "\n",
      "\n",
      "\n"
     ]
    }
   ],
   "source": [
    "cot_zeroshot.inspect_history(n=1)"
   ]
  },
  {
   "cell_type": "markdown",
   "id": "1c67e01b-66a9-44f8-bc9c-057cb659017f",
   "metadata": {},
   "source": [
    "---\n",
    "#### Metrics & Evaluator\n",
    "\n",
    "In DSPy, metric is a function that will take examples from your data and the output of LLM and return a score that quantifies how good the output is.\n",
    "\n",
    "For simple classification or short-form QA tasks, this could be just \"accuracy\", or \"exact match\" or \"F1-Score\". For long-form outputs, metric could be a smaller DSPy program that checks multiple properties of the output(using AI feedback from LLMs).\n",
    "\n",
    "Simpler metrics are already defined in DSPY:\n",
    "- `dspy.evaluate.metrics.answer_exact_match`\n",
    "- `dspy.evaluate.metrics.answer_passage_match`\n",
    "\n",
    "The metrics could be more complex, e.g. check for multiple properties. For that, write your own function."
   ]
  },
  {
   "cell_type": "code",
   "execution_count": 72,
   "id": "da90c0ae-1284-4ab7-a2cc-c706d0349e49",
   "metadata": {},
   "outputs": [],
   "source": [
    "indicxlni_accuracy = dspy.evaluate.metrics.answer_exact_match"
   ]
  },
  {
   "cell_type": "markdown",
   "id": "98e84dc8-2d15-45b7-9074-c7389dcc8bd7",
   "metadata": {},
   "source": [
    "Once metric is decided/defined, evaluations can be done either in a simple Python loop:\n",
    "\n",
    "```\n",
    "scores = []\n",
    "for x in devset:\n",
    "    pred = program(**x.inputs())\n",
    "    score = metric(x, pred)\n",
    "    scores.append(score)\n",
    "```\n",
    "\n",
    "or can use built-in utilites in `Evaluate` utilities."
   ]
  },
  {
   "cell_type": "code",
   "execution_count": 77,
   "id": "7ce0dae7-fd64-434a-9f40-0d7fbc14f508",
   "metadata": {},
   "outputs": [],
   "source": [
    "evaluator = Evaluate(devset=test_set, num_threads=1, display_progress=True, display_table=len(test_set))"
   ]
  },
  {
   "cell_type": "code",
   "execution_count": 78,
   "id": "868b3981-7002-4fa1-9d58-7caffa4e0522",
   "metadata": {},
   "outputs": [
    {
     "name": "stdout",
     "output_type": "stream",
     "text": [
      "Average Metric: 7.00 / 10 (70.0%): 100%|███████████████████████████████████████████████████████████████████████████████████████████████████████████████████████████████████████████████████████████████████████████████████████████████████████████████████████████████████████████████████████████████████████████████████████████████| 10/10 [00:00<00:00, 743.37it/s]"
     ]
    },
    {
     "name": "stderr",
     "output_type": "stream",
     "text": [
      "2025/06/15 22:19:06 INFO dspy.evaluate.evaluate: Average Metric: 7 / 10 (70.0%)\n"
     ]
    },
    {
     "name": "stdout",
     "output_type": "stream",
     "text": [
      "\n"
     ]
    },
    {
     "data": {
      "text/html": [
       "<div>\n",
       "<style scoped>\n",
       "    .dataframe tbody tr th:only-of-type {\n",
       "        vertical-align: middle;\n",
       "    }\n",
       "\n",
       "    .dataframe tbody tr th {\n",
       "        vertical-align: top;\n",
       "    }\n",
       "\n",
       "    .dataframe thead th {\n",
       "        text-align: right;\n",
       "    }\n",
       "</style>\n",
       "<table border=\"1\" class=\"dataframe\">\n",
       "  <thead>\n",
       "    <tr style=\"text-align: right;\">\n",
       "      <th></th>\n",
       "      <th>premise</th>\n",
       "      <th>hypothesis</th>\n",
       "      <th>example_answer</th>\n",
       "      <th>reasoning</th>\n",
       "      <th>pred_answer</th>\n",
       "      <th>answer_exact_match</th>\n",
       "    </tr>\n",
       "  </thead>\n",
       "  <tbody>\n",
       "    <tr>\n",
       "      <th>0</th>\n",
       "      <td>सुरक्षा सुनिश्चित करने के लिए जनरेटरों को बंद करना पड़ा और लिफ्ट ब...</td>\n",
       "      <td>जनरेटर एक सुरक्षा जोखिम थे।</td>\n",
       "      <td>Yes</td>\n",
       "      <td>प्रस्तावना में कहा गया है कि सुरक्षा सुनिश्चित करने के लिए जनरेटरो...</td>\n",
       "      <td>Yes</td>\n",
       "      <td>✔️ [True]</td>\n",
       "    </tr>\n",
       "    <tr>\n",
       "      <th>1</th>\n",
       "      <td>भगवान का उल्लेख केवल प्रकृति के भगवान के रूप में किया जाता है, जिस...</td>\n",
       "      <td>लोग अलग-अलग होंगे लेकिन समान होंगे।</td>\n",
       "      <td>Yes</td>\n",
       "      <td>प्रस्तावना में कहा गया है कि सभी लोगों को राष्ट्रों के समुदाय में ...</td>\n",
       "      <td>Yes</td>\n",
       "      <td>✔️ [True]</td>\n",
       "    </tr>\n",
       "    <tr>\n",
       "      <th>2</th>\n",
       "      <td>अप्रैल १८६५ में उस व्यक्ति की हत्या के साथ, जिसने विचारों के एक नए...</td>\n",
       "      <td>इस हमले को रूस ने अंजाम दिया था।</td>\n",
       "      <td>Neutral</td>\n",
       "      <td>प्रस्तावना में यह कहा गया है कि एक व्यक्ति की हत्या अप्रैल 1865 मे...</td>\n",
       "      <td>No</td>\n",
       "      <td></td>\n",
       "    </tr>\n",
       "    <tr>\n",
       "      <th>3</th>\n",
       "      <td>दूसरे शब्दों में, क्या होता है कुछ की तरह है एक जादूगर के अब-तुम-अ...</td>\n",
       "      <td>जो हो रहा है वह हैरान करने वाला है।</td>\n",
       "      <td>Yes</td>\n",
       "      <td>प्रस्तावना में एक जादूगर के कार्यों का उल्लेख किया गया है, जो आमतौ...</td>\n",
       "      <td>Neutral</td>\n",
       "      <td></td>\n",
       "    </tr>\n",
       "    <tr>\n",
       "      <th>4</th>\n",
       "      <td>आप जानते हैं, आप नहीं बच सकते, आप जीवित नहीं रह सकते अगर आपके पास ...</td>\n",
       "      <td>आपको 5000 फीट से अधिक काउंटर प्रेशर की जरूरत होती है।</td>\n",
       "      <td>Neutral</td>\n",
       "      <td>प्रस्तावना में कहा गया है कि ऊंचाइयों पर सांस लेने के लिए काउंटर प...</td>\n",
       "      <td>Neutral</td>\n",
       "      <td>✔️ [True]</td>\n",
       "    </tr>\n",
       "    <tr>\n",
       "      <th>5</th>\n",
       "      <td>एक साधारण उदाहरण के रूप में, मान लीजिए कि काम साझा करने की लागत 10...</td>\n",
       "      <td>आप अनुमान लगा सकते हैं कि काम साझा करने की लागत मूल डाक से कम है।</td>\n",
       "      <td>Yes</td>\n",
       "      <td>प्रस्तावना में कहा गया है कि काम साझा करने की लागत 10a है और मूल ड...</td>\n",
       "      <td>Yes</td>\n",
       "      <td>✔️ [True]</td>\n",
       "    </tr>\n",
       "    <tr>\n",
       "      <th>6</th>\n",
       "      <td>आजादी के बाद यहां संसद बनाने की योजना शून्य हो गई।</td>\n",
       "      <td>इस स्थान के लिए संसद पर दृढ़ता से विचार किया गया था।</td>\n",
       "      <td>Neutral</td>\n",
       "      <td>प्रस्तावना में कहा गया है कि आजादी के बाद संसद बनाने की योजना शून्...</td>\n",
       "      <td>No</td>\n",
       "      <td></td>\n",
       "    </tr>\n",
       "    <tr>\n",
       "      <th>7</th>\n",
       "      <td>हाँ मैं उसे सुन सकता हूँ</td>\n",
       "      <td>मैं उसे सुन नहीं सकता.</td>\n",
       "      <td>No</td>\n",
       "      <td>The premise states \"हाँ मैं उसे सुन सकता हूँ,\" which translates to...</td>\n",
       "      <td>No</td>\n",
       "      <td>✔️ [True]</td>\n",
       "    </tr>\n",
       "    <tr>\n",
       "      <th>8</th>\n",
       "      <td>इस समूह में 23वां संशोधन भी है, जो कोलंबिया जिले में अन्यथा योग्य ...</td>\n",
       "      <td>23वें संशोधन में कहा गया है कि अगर आप कैलिफोर्निया में रहते हैं तो...</td>\n",
       "      <td>No</td>\n",
       "      <td>23वें संशोधन का संदर्भ कोलंबिया जिले में अन्यथा योग्य नागरिकों को ...</td>\n",
       "      <td>No</td>\n",
       "      <td>✔️ [True]</td>\n",
       "    </tr>\n",
       "    <tr>\n",
       "      <th>9</th>\n",
       "      <td>रिसॉर्ट के केंद्र में, भीतरी लैगून के आश्रय वाले पानी में, डॉल्फ़ि...</td>\n",
       "      <td>आप रिसॉर्ट में डोफिन के साथ तैर सकते हैं।</td>\n",
       "      <td>Yes</td>\n",
       "      <td>प्रस्तावना में कहा गया है कि रिसॉर्ट में डॉल्फ़िन कार्यक्रम के साथ...</td>\n",
       "      <td>Yes</td>\n",
       "      <td>✔️ [True]</td>\n",
       "    </tr>\n",
       "  </tbody>\n",
       "</table>\n",
       "</div>"
      ],
      "text/plain": [
       "                                                                 premise  ... answer_exact_match\n",
       "0  सुरक्षा सुनिश्चित करने के लिए जनरेटरों को बंद करना पड़ा और लिफ्ट ब...  ...          ✔️ [True]\n",
       "1  भगवान का उल्लेख केवल प्रकृति के भगवान के रूप में किया जाता है, जिस...  ...          ✔️ [True]\n",
       "2  अप्रैल १८६५ में उस व्यक्ति की हत्या के साथ, जिसने विचारों के एक नए...  ...                   \n",
       "3  दूसरे शब्दों में, क्या होता है कुछ की तरह है एक जादूगर के अब-तुम-अ...  ...                   \n",
       "4  आप जानते हैं, आप नहीं बच सकते, आप जीवित नहीं रह सकते अगर आपके पास ...  ...          ✔️ [True]\n",
       "5  एक साधारण उदाहरण के रूप में, मान लीजिए कि काम साझा करने की लागत 10...  ...          ✔️ [True]\n",
       "6                     आजादी के बाद यहां संसद बनाने की योजना शून्य हो गई।  ...                   \n",
       "7                                               हाँ मैं उसे सुन सकता हूँ  ...          ✔️ [True]\n",
       "8  इस समूह में 23वां संशोधन भी है, जो कोलंबिया जिले में अन्यथा योग्य ...  ...          ✔️ [True]\n",
       "9  रिसॉर्ट के केंद्र में, भीतरी लैगून के आश्रय वाले पानी में, डॉल्फ़ि...  ...          ✔️ [True]\n",
       "\n",
       "[10 rows x 6 columns]"
      ]
     },
     "metadata": {},
     "output_type": "display_data"
    },
    {
     "data": {
      "text/plain": [
       "70.0"
      ]
     },
     "execution_count": 78,
     "metadata": {},
     "output_type": "execute_result"
    }
   ],
   "source": [
    "evaluator(cot_zeroshot, metric=indicxlni_accuracy)"
   ]
  },
  {
   "cell_type": "markdown",
   "id": "027cecd1-0a42-4681-869b-fdfd2cce3383",
   "metadata": {},
   "source": [
    "---\n",
    "### Optimization"
   ]
  },
  {
   "cell_type": "code",
   "execution_count": 79,
   "id": "745e6e33-3572-4574-a290-4152753fc120",
   "metadata": {},
   "outputs": [
    {
     "name": "stdout",
     "output_type": "stream",
     "text": [
      "Going to sample between 1 and 8 traces per predictor.\n",
      "Will attempt to bootstrap 10 candidate sets.\n"
     ]
    }
   ],
   "source": [
    "bootstrap_optimizer = BootstrapFewShotWithRandomSearch(\n",
    "    max_bootstrapped_demos=8,\n",
    "    max_labeled_demos=8,\n",
    "    num_candidate_programs=10,\n",
    "    num_threads=8,\n",
    "    metric=indicxlni_accuracy\n",
    ")"
   ]
  },
  {
   "cell_type": "code",
   "execution_count": 80,
   "id": "23ad1de3-6537-44d5-8e26-3606cb234b3a",
   "metadata": {},
   "outputs": [
    {
     "name": "stdout",
     "output_type": "stream",
     "text": [
      "Average Metric: 5.00 / 10 (50.0%): 100%|████████████████████████████████████████████████████████████████████████████████████████████████████████████████████████████████████████████████████████████████████████████████████████████████████████████████████████████████████████████████████████████████████████████████████████████████| 10/10 [00:04<00:00,  2.00it/s]"
     ]
    },
    {
     "name": "stderr",
     "output_type": "stream",
     "text": [
      "2025/06/15 22:30:40 INFO dspy.evaluate.evaluate: Average Metric: 5 / 10 (50.0%)\n"
     ]
    },
    {
     "name": "stdout",
     "output_type": "stream",
     "text": [
      "\n",
      "New best score: 50.0 for seed -3\n",
      "Scores so far: [50.0]\n",
      "Best score so far: 50.0\n",
      "Average Metric: 5.00 / 10 (50.0%): 100%|████████████████████████████████████████████████████████████████████████████████████████████████████████████████████████████████████████████████████████████████████████████████████████████████████████████████████████████████████████████████████████████████████████████████████████████████| 10/10 [00:03<00:00,  3.10it/s]"
     ]
    },
    {
     "name": "stderr",
     "output_type": "stream",
     "text": [
      "2025/06/15 22:30:44 INFO dspy.evaluate.evaluate: Average Metric: 5 / 10 (50.0%)\n"
     ]
    },
    {
     "name": "stdout",
     "output_type": "stream",
     "text": [
      "\n",
      "Scores so far: [50.0, 50.0]\n",
      "Best score so far: 50.0\n"
     ]
    },
    {
     "name": "stderr",
     "output_type": "stream",
     "text": [
      " 32%|███████████████████████████████████████████████████████████████████████████████████████████████████████▎                                                                                                                                                                                                                           | 16/50 [00:34<01:13,  2.17s/it]\n"
     ]
    },
    {
     "name": "stdout",
     "output_type": "stream",
     "text": [
      "Bootstrapped 8 full traces after 16 examples for up to 1 rounds, amounting to 16 attempts.\n",
      "Average Metric: 5.00 / 10 (50.0%): 100%|████████████████████████████████████████████████████████████████████████████████████████████████████████████████████████████████████████████████████████████████████████████████████████████████████████████████████████████████████████████████████████████████████████████████████████████████| 10/10 [00:05<00:00,  1.80it/s]"
     ]
    },
    {
     "name": "stderr",
     "output_type": "stream",
     "text": [
      "2025/06/15 22:31:24 INFO dspy.evaluate.evaluate: Average Metric: 5 / 10 (50.0%)\n"
     ]
    },
    {
     "name": "stdout",
     "output_type": "stream",
     "text": [
      "\n",
      "Scores so far: [50.0, 50.0, 50.0]\n",
      "Best score so far: 50.0\n"
     ]
    },
    {
     "name": "stderr",
     "output_type": "stream",
     "text": [
      " 28%|██████████████████████████████████████████████████████████████████████████████████████████▍                                                                                                                                                                                                                                        | 14/50 [00:25<01:04,  1.81s/it]\n"
     ]
    },
    {
     "name": "stdout",
     "output_type": "stream",
     "text": [
      "Bootstrapped 7 full traces after 14 examples for up to 1 rounds, amounting to 14 attempts.\n",
      "Average Metric: 5.00 / 10 (50.0%): 100%|████████████████████████████████████████████████████████████████████████████████████████████████████████████████████████████████████████████████████████████████████████████████████████████████████████████████████████████████████████████████████████████████████████████████████████████████| 10/10 [00:03<00:00,  2.81it/s]"
     ]
    },
    {
     "name": "stderr",
     "output_type": "stream",
     "text": [
      "2025/06/15 22:31:53 INFO dspy.evaluate.evaluate: Average Metric: 5 / 10 (50.0%)\n"
     ]
    },
    {
     "name": "stdout",
     "output_type": "stream",
     "text": [
      "\n",
      "Scores so far: [50.0, 50.0, 50.0, 50.0]\n",
      "Best score so far: 50.0\n"
     ]
    },
    {
     "name": "stderr",
     "output_type": "stream",
     "text": [
      " 16%|███████████████████████████████████████████████████▊                                                                                                                                                                                                                                                                                | 8/50 [00:14<01:18,  1.86s/it]\n"
     ]
    },
    {
     "name": "stdout",
     "output_type": "stream",
     "text": [
      "Bootstrapped 3 full traces after 8 examples for up to 1 rounds, amounting to 8 attempts.\n",
      "Average Metric: 4.00 / 10 (40.0%): 100%|████████████████████████████████████████████████████████████████████████████████████████████████████████████████████████████████████████████████████████████████████████████████████████████████████████████████████████████████████████████████████████████████████████████████████████████████| 10/10 [00:05<00:00,  1.89it/s]"
     ]
    },
    {
     "name": "stderr",
     "output_type": "stream",
     "text": [
      "2025/06/15 22:32:13 INFO dspy.evaluate.evaluate: Average Metric: 4 / 10 (40.0%)\n"
     ]
    },
    {
     "name": "stdout",
     "output_type": "stream",
     "text": [
      "\n",
      "Scores so far: [50.0, 50.0, 50.0, 50.0, 40.0]\n",
      "Best score so far: 50.0\n"
     ]
    },
    {
     "name": "stderr",
     "output_type": "stream",
     "text": [
      "  2%|██████▍                                                                                                                                                                                                                                                                                                                             | 1/50 [00:01<01:19,  1.62s/it]\n"
     ]
    },
    {
     "name": "stdout",
     "output_type": "stream",
     "text": [
      "Bootstrapped 1 full traces after 1 examples for up to 1 rounds, amounting to 1 attempts.\n",
      "Average Metric: 5.00 / 10 (50.0%): 100%|████████████████████████████████████████████████████████████████████████████████████████████████████████████████████████████████████████████████████████████████████████████████████████████████████████████████████████████████████████████████████████████████████████████████████████████████| 10/10 [00:03<00:00,  3.09it/s]"
     ]
    },
    {
     "name": "stderr",
     "output_type": "stream",
     "text": [
      "2025/06/15 22:32:18 INFO dspy.evaluate.evaluate: Average Metric: 5 / 10 (50.0%)\n"
     ]
    },
    {
     "name": "stdout",
     "output_type": "stream",
     "text": [
      "\n",
      "Scores so far: [50.0, 50.0, 50.0, 50.0, 40.0, 50.0]\n",
      "Best score so far: 50.0\n"
     ]
    },
    {
     "name": "stderr",
     "output_type": "stream",
     "text": [
      " 14%|█████████████████████████████████████████████▎                                                                                                                                                                                                                                                                                      | 7/50 [00:10<01:06,  1.56s/it]\n"
     ]
    },
    {
     "name": "stdout",
     "output_type": "stream",
     "text": [
      "Bootstrapped 4 full traces after 7 examples for up to 1 rounds, amounting to 7 attempts.\n",
      "Average Metric: 5.00 / 10 (50.0%): 100%|████████████████████████████████████████████████████████████████████████████████████████████████████████████████████████████████████████████████████████████████████████████████████████████████████████████████████████████████████████████████████████████████████████████████████████████████| 10/10 [00:03<00:00,  2.95it/s]"
     ]
    },
    {
     "name": "stderr",
     "output_type": "stream",
     "text": [
      "2025/06/15 22:32:33 INFO dspy.evaluate.evaluate: Average Metric: 5 / 10 (50.0%)\n"
     ]
    },
    {
     "name": "stdout",
     "output_type": "stream",
     "text": [
      "\n",
      "Scores so far: [50.0, 50.0, 50.0, 50.0, 40.0, 50.0, 50.0]\n",
      "Best score so far: 50.0\n"
     ]
    },
    {
     "name": "stderr",
     "output_type": "stream",
     "text": [
      " 16%|███████████████████████████████████████████████████▊                                                                                                                                                                                                                                                                                | 8/50 [00:16<01:24,  2.02s/it]\n"
     ]
    },
    {
     "name": "stdout",
     "output_type": "stream",
     "text": [
      "Bootstrapped 4 full traces after 8 examples for up to 1 rounds, amounting to 8 attempts.\n",
      "Average Metric: 6.00 / 10 (60.0%): 100%|████████████████████████████████████████████████████████████████████████████████████████████████████████████████████████████████████████████████████████████████████████████████████████████████████████████████████████████████████████████████████████████████████████████████████████████████| 10/10 [00:04<00:00,  2.12it/s]"
     ]
    },
    {
     "name": "stderr",
     "output_type": "stream",
     "text": [
      "2025/06/15 22:32:54 INFO dspy.evaluate.evaluate: Average Metric: 6 / 10 (60.0%)\n"
     ]
    },
    {
     "name": "stdout",
     "output_type": "stream",
     "text": [
      "\n",
      "New best score: 60.0 for seed 4\n",
      "Scores so far: [50.0, 50.0, 50.0, 50.0, 40.0, 50.0, 50.0, 60.0]\n",
      "Best score so far: 60.0\n"
     ]
    },
    {
     "name": "stderr",
     "output_type": "stream",
     "text": [
      " 16%|███████████████████████████████████████████████████▊                                                                                                                                                                                                                                                                                | 8/50 [00:12<01:04,  1.54s/it]\n"
     ]
    },
    {
     "name": "stdout",
     "output_type": "stream",
     "text": [
      "Bootstrapped 5 full traces after 8 examples for up to 1 rounds, amounting to 8 attempts.\n",
      "Average Metric: 5.00 / 10 (50.0%): 100%|████████████████████████████████████████████████████████████████████████████████████████████████████████████████████████████████████████████████████████████████████████████████████████████████████████████████████████████████████████████████████████████████████████████████████████████████| 10/10 [00:03<00:00,  3.23it/s]"
     ]
    },
    {
     "name": "stderr",
     "output_type": "stream",
     "text": [
      "2025/06/15 22:33:09 INFO dspy.evaluate.evaluate: Average Metric: 5 / 10 (50.0%)\n"
     ]
    },
    {
     "name": "stdout",
     "output_type": "stream",
     "text": [
      "\n",
      "Scores so far: [50.0, 50.0, 50.0, 50.0, 40.0, 50.0, 50.0, 60.0, 50.0]\n",
      "Best score so far: 60.0\n"
     ]
    },
    {
     "name": "stderr",
     "output_type": "stream",
     "text": [
      "  4%|████████████▉                                                                                                                                                                                                                                                                                                                       | 2/50 [00:03<01:18,  1.63s/it]\n"
     ]
    },
    {
     "name": "stdout",
     "output_type": "stream",
     "text": [
      "Bootstrapped 2 full traces after 2 examples for up to 1 rounds, amounting to 2 attempts.\n",
      "Average Metric: 5.00 / 10 (50.0%): 100%|████████████████████████████████████████████████████████████████████████████████████████████████████████████████████████████████████████████████████████████████████████████████████████████████████████████████████████████████████████████████████████████████████████████████████████████████| 10/10 [00:04<00:00,  2.50it/s]"
     ]
    },
    {
     "name": "stderr",
     "output_type": "stream",
     "text": [
      "2025/06/15 22:33:16 INFO dspy.evaluate.evaluate: Average Metric: 5 / 10 (50.0%)\n"
     ]
    },
    {
     "name": "stdout",
     "output_type": "stream",
     "text": [
      "\n",
      "Scores so far: [50.0, 50.0, 50.0, 50.0, 40.0, 50.0, 50.0, 60.0, 50.0, 50.0]\n",
      "Best score so far: 60.0\n"
     ]
    },
    {
     "name": "stderr",
     "output_type": "stream",
     "text": [
      " 18%|██████████████████████████████████████████████████████████▎                                                                                                                                                                                                                                                                         | 9/50 [00:18<01:22,  2.01s/it]\n"
     ]
    },
    {
     "name": "stdout",
     "output_type": "stream",
     "text": [
      "Bootstrapped 6 full traces after 9 examples for up to 1 rounds, amounting to 9 attempts.\n",
      "Average Metric: 5.00 / 10 (50.0%): 100%|████████████████████████████████████████████████████████████████████████████████████████████████████████████████████████████████████████████████████████████████████████████████████████████████████████████████████████████████████████████████████████████████████████████████████████████████| 10/10 [00:04<00:00,  2.47it/s]"
     ]
    },
    {
     "name": "stderr",
     "output_type": "stream",
     "text": [
      "2025/06/15 22:33:39 INFO dspy.evaluate.evaluate: Average Metric: 5 / 10 (50.0%)\n"
     ]
    },
    {
     "name": "stdout",
     "output_type": "stream",
     "text": [
      "\n",
      "Scores so far: [50.0, 50.0, 50.0, 50.0, 40.0, 50.0, 50.0, 60.0, 50.0, 50.0, 50.0]\n",
      "Best score so far: 60.0\n"
     ]
    },
    {
     "name": "stderr",
     "output_type": "stream",
     "text": [
      " 20%|████████████████████████████████████████████████████████████████▌                                                                                                                                                                                                                                                                  | 10/50 [00:18<01:14,  1.86s/it]\n"
     ]
    },
    {
     "name": "stdout",
     "output_type": "stream",
     "text": [
      "Bootstrapped 4 full traces after 10 examples for up to 1 rounds, amounting to 10 attempts.\n",
      "Average Metric: 5.00 / 10 (50.0%): 100%|████████████████████████████████████████████████████████████████████████████████████████████████████████████████████████████████████████████████████████████████████████████████████████████████████████████████████████████████████████████████████████████████████████████████████████████████| 10/10 [00:03<00:00,  3.26it/s]"
     ]
    },
    {
     "name": "stderr",
     "output_type": "stream",
     "text": [
      "2025/06/15 22:34:00 INFO dspy.evaluate.evaluate: Average Metric: 5 / 10 (50.0%)\n"
     ]
    },
    {
     "name": "stdout",
     "output_type": "stream",
     "text": [
      "\n",
      "Scores so far: [50.0, 50.0, 50.0, 50.0, 40.0, 50.0, 50.0, 60.0, 50.0, 50.0, 50.0, 50.0]\n",
      "Best score so far: 60.0\n"
     ]
    },
    {
     "name": "stderr",
     "output_type": "stream",
     "text": [
      " 24%|█████████████████████████████████████████████████████████████████████████████▌                                                                                                                                                                                                                                                     | 12/50 [00:19<01:02,  1.65s/it]\n"
     ]
    },
    {
     "name": "stdout",
     "output_type": "stream",
     "text": [
      "Bootstrapped 8 full traces after 12 examples for up to 1 rounds, amounting to 12 attempts.\n",
      "Average Metric: 4.00 / 10 (40.0%): 100%|████████████████████████████████████████████████████████████████████████████████████████████████████████████████████████████████████████████████████████████████████████████████████████████████████████████████████████████████████████████████████████████████████████████████████████████████| 10/10 [00:03<00:00,  3.06it/s]"
     ]
    },
    {
     "name": "stderr",
     "output_type": "stream",
     "text": [
      "2025/06/15 22:34:23 INFO dspy.evaluate.evaluate: Average Metric: 4 / 10 (40.0%)\n"
     ]
    },
    {
     "name": "stdout",
     "output_type": "stream",
     "text": [
      "\n",
      "Scores so far: [50.0, 50.0, 50.0, 50.0, 40.0, 50.0, 50.0, 60.0, 50.0, 50.0, 50.0, 50.0, 40.0]\n",
      "Best score so far: 60.0\n",
      "13 candidate programs found.\n"
     ]
    }
   ],
   "source": [
    "cot_fewshot = bootstrap_optimizer.compile(cot_zeroshot, trainset=train_set, valset=dev_set)"
   ]
  },
  {
   "cell_type": "code",
   "execution_count": 81,
   "id": "95c0d6f3-6a8c-4454-beda-085bf4cd7ec5",
   "metadata": {},
   "outputs": [
    {
     "name": "stdout",
     "output_type": "stream",
     "text": [
      "Average Metric: 7.00 / 10 (70.0%): 100%|████████████████████████████████████████████████████████████████████████████████████████████████████████████████████████████████████████████████████████████████████████████████████████████████████████████████████████████████████████████████████████████████████████████████████████████████| 10/10 [00:22<00:00,  2.22s/it]"
     ]
    },
    {
     "name": "stderr",
     "output_type": "stream",
     "text": [
      "2025/06/15 22:35:39 INFO dspy.evaluate.evaluate: Average Metric: 7 / 10 (70.0%)\n"
     ]
    },
    {
     "name": "stdout",
     "output_type": "stream",
     "text": [
      "\n"
     ]
    },
    {
     "data": {
      "text/html": [
       "<div>\n",
       "<style scoped>\n",
       "    .dataframe tbody tr th:only-of-type {\n",
       "        vertical-align: middle;\n",
       "    }\n",
       "\n",
       "    .dataframe tbody tr th {\n",
       "        vertical-align: top;\n",
       "    }\n",
       "\n",
       "    .dataframe thead th {\n",
       "        text-align: right;\n",
       "    }\n",
       "</style>\n",
       "<table border=\"1\" class=\"dataframe\">\n",
       "  <thead>\n",
       "    <tr style=\"text-align: right;\">\n",
       "      <th></th>\n",
       "      <th>premise</th>\n",
       "      <th>hypothesis</th>\n",
       "      <th>example_answer</th>\n",
       "      <th>reasoning</th>\n",
       "      <th>pred_answer</th>\n",
       "      <th>answer_exact_match</th>\n",
       "    </tr>\n",
       "  </thead>\n",
       "  <tbody>\n",
       "    <tr>\n",
       "      <th>0</th>\n",
       "      <td>सुरक्षा सुनिश्चित करने के लिए जनरेटरों को बंद करना पड़ा और लिफ्ट ब...</td>\n",
       "      <td>जनरेटर एक सुरक्षा जोखिम थे।</td>\n",
       "      <td>Yes</td>\n",
       "      <td>प्रस्तावना में कहा गया है कि सुरक्षा सुनिश्चित करने के लिए जनरेटरो...</td>\n",
       "      <td>Yes</td>\n",
       "      <td>✔️ [True]</td>\n",
       "    </tr>\n",
       "    <tr>\n",
       "      <th>1</th>\n",
       "      <td>भगवान का उल्लेख केवल प्रकृति के भगवान के रूप में किया जाता है, जिस...</td>\n",
       "      <td>लोग अलग-अलग होंगे लेकिन समान होंगे।</td>\n",
       "      <td>Yes</td>\n",
       "      <td>प्रस्तावना में कहा गया है कि सभी लोगों को राष्ट्रों के समुदाय में ...</td>\n",
       "      <td>Yes</td>\n",
       "      <td>✔️ [True]</td>\n",
       "    </tr>\n",
       "    <tr>\n",
       "      <th>2</th>\n",
       "      <td>अप्रैल १८६५ में उस व्यक्ति की हत्या के साथ, जिसने विचारों के एक नए...</td>\n",
       "      <td>इस हमले को रूस ने अंजाम दिया था।</td>\n",
       "      <td>Neutral</td>\n",
       "      <td>The premise discusses the assassination of a person in April 1865 ...</td>\n",
       "      <td>No</td>\n",
       "      <td></td>\n",
       "    </tr>\n",
       "    <tr>\n",
       "      <th>3</th>\n",
       "      <td>दूसरे शब्दों में, क्या होता है कुछ की तरह है एक जादूगर के अब-तुम-अ...</td>\n",
       "      <td>जो हो रहा है वह हैरान करने वाला है।</td>\n",
       "      <td>Yes</td>\n",
       "      <td>प्रस्तावना में जादूगर के प्रदर्शन की तुलना की गई है, जिसमें कुछ ची...</td>\n",
       "      <td>Neutral</td>\n",
       "      <td></td>\n",
       "    </tr>\n",
       "    <tr>\n",
       "      <th>4</th>\n",
       "      <td>आप जानते हैं, आप नहीं बच सकते, आप जीवित नहीं रह सकते अगर आपके पास ...</td>\n",
       "      <td>आपको 5000 फीट से अधिक काउंटर प्रेशर की जरूरत होती है।</td>\n",
       "      <td>Neutral</td>\n",
       "      <td>The premise states that one cannot survive without counter pressur...</td>\n",
       "      <td>Neutral</td>\n",
       "      <td>✔️ [True]</td>\n",
       "    </tr>\n",
       "    <tr>\n",
       "      <th>5</th>\n",
       "      <td>एक साधारण उदाहरण के रूप में, मान लीजिए कि काम साझा करने की लागत 10...</td>\n",
       "      <td>आप अनुमान लगा सकते हैं कि काम साझा करने की लागत मूल डाक से कम है।</td>\n",
       "      <td>Yes</td>\n",
       "      <td>प्रस्तावना में कहा गया है कि काम साझा करने की लागत 10a है और मूल ड...</td>\n",
       "      <td>Yes</td>\n",
       "      <td>✔️ [True]</td>\n",
       "    </tr>\n",
       "    <tr>\n",
       "      <th>6</th>\n",
       "      <td>आजादी के बाद यहां संसद बनाने की योजना शून्य हो गई।</td>\n",
       "      <td>इस स्थान के लिए संसद पर दृढ़ता से विचार किया गया था।</td>\n",
       "      <td>Neutral</td>\n",
       "      <td>प्रस्तावना में कहा गया है कि आजादी के बाद यहां संसद बनाने की योजना...</td>\n",
       "      <td>No</td>\n",
       "      <td></td>\n",
       "    </tr>\n",
       "    <tr>\n",
       "      <th>7</th>\n",
       "      <td>हाँ मैं उसे सुन सकता हूँ</td>\n",
       "      <td>मैं उसे सुन नहीं सकता.</td>\n",
       "      <td>No</td>\n",
       "      <td>The premise states \"हाँ मैं उसे सुन सकता हूँ,\" which translates to...</td>\n",
       "      <td>No</td>\n",
       "      <td>✔️ [True]</td>\n",
       "    </tr>\n",
       "    <tr>\n",
       "      <th>8</th>\n",
       "      <td>इस समूह में 23वां संशोधन भी है, जो कोलंबिया जिले में अन्यथा योग्य ...</td>\n",
       "      <td>23वें संशोधन में कहा गया है कि अगर आप कैलिफोर्निया में रहते हैं तो...</td>\n",
       "      <td>No</td>\n",
       "      <td>प्रस्तावना में कहा गया है कि 23वां संशोधन कोलंबिया जिले में अन्यथा...</td>\n",
       "      <td>No</td>\n",
       "      <td>✔️ [True]</td>\n",
       "    </tr>\n",
       "    <tr>\n",
       "      <th>9</th>\n",
       "      <td>रिसॉर्ट के केंद्र में, भीतरी लैगून के आश्रय वाले पानी में, डॉल्फ़ि...</td>\n",
       "      <td>आप रिसॉर्ट में डोफिन के साथ तैर सकते हैं।</td>\n",
       "      <td>Yes</td>\n",
       "      <td>The premise states that there is a swimming program with dolphins ...</td>\n",
       "      <td>Yes</td>\n",
       "      <td>✔️ [True]</td>\n",
       "    </tr>\n",
       "  </tbody>\n",
       "</table>\n",
       "</div>"
      ],
      "text/plain": [
       "                                                                 premise  ... answer_exact_match\n",
       "0  सुरक्षा सुनिश्चित करने के लिए जनरेटरों को बंद करना पड़ा और लिफ्ट ब...  ...          ✔️ [True]\n",
       "1  भगवान का उल्लेख केवल प्रकृति के भगवान के रूप में किया जाता है, जिस...  ...          ✔️ [True]\n",
       "2  अप्रैल १८६५ में उस व्यक्ति की हत्या के साथ, जिसने विचारों के एक नए...  ...                   \n",
       "3  दूसरे शब्दों में, क्या होता है कुछ की तरह है एक जादूगर के अब-तुम-अ...  ...                   \n",
       "4  आप जानते हैं, आप नहीं बच सकते, आप जीवित नहीं रह सकते अगर आपके पास ...  ...          ✔️ [True]\n",
       "5  एक साधारण उदाहरण के रूप में, मान लीजिए कि काम साझा करने की लागत 10...  ...          ✔️ [True]\n",
       "6                     आजादी के बाद यहां संसद बनाने की योजना शून्य हो गई।  ...                   \n",
       "7                                               हाँ मैं उसे सुन सकता हूँ  ...          ✔️ [True]\n",
       "8  इस समूह में 23वां संशोधन भी है, जो कोलंबिया जिले में अन्यथा योग्य ...  ...          ✔️ [True]\n",
       "9  रिसॉर्ट के केंद्र में, भीतरी लैगून के आश्रय वाले पानी में, डॉल्फ़ि...  ...          ✔️ [True]\n",
       "\n",
       "[10 rows x 6 columns]"
      ]
     },
     "metadata": {},
     "output_type": "display_data"
    },
    {
     "data": {
      "text/plain": [
       "70.0"
      ]
     },
     "execution_count": 81,
     "metadata": {},
     "output_type": "execute_result"
    }
   ],
   "source": [
    "evaluator(cot_fewshot, metric=indicxlni_accuracy)"
   ]
  },
  {
   "cell_type": "code",
   "execution_count": 82,
   "id": "f7da7715-5bbe-48d8-84f0-377df5e51ea9",
   "metadata": {},
   "outputs": [
    {
     "name": "stdout",
     "output_type": "stream",
     "text": [
      "\n",
      "\n",
      "\n",
      "\n",
      "\u001b[34m[2025-06-15T22:35:39.891624]\u001b[0m\n",
      "\n",
      "\u001b[31mSystem message:\u001b[0m\n",
      "\n",
      "Your input fields are:\n",
      "1. `premise` (str): \n",
      "2. `hypothesis` (str):\n",
      "Your output fields are:\n",
      "1. `reasoning` (str): \n",
      "2. `answer` (str): Yes or No or Neutral\n",
      "All interactions will be structured in the following way, with the appropriate values filled in.\n",
      "\n",
      "[[ ## premise ## ]]\n",
      "{premise}\n",
      "\n",
      "[[ ## hypothesis ## ]]\n",
      "{hypothesis}\n",
      "\n",
      "[[ ## reasoning ## ]]\n",
      "{reasoning}\n",
      "\n",
      "[[ ## answer ## ]]\n",
      "{answer}\n",
      "\n",
      "[[ ## completed ## ]]\n",
      "In adhering to this structure, your objective is: \n",
      "        You are given a premise and a hypothesis.You must indicate with Yes/No/Neutral answer whether we can logically conclude the hypothesis from the premise.\n",
      "\n",
      "\n",
      "\u001b[31mUser message:\u001b[0m\n",
      "\n",
      "This is an example of the task, though some input or output fields are not supplied.\n",
      "\n",
      "[[ ## premise ## ]]\n",
      "एक परीक्षण में चिकित्सकों द्वारा किए गए हस्तक्षेप के परिणाम उतने ही अच्छे थे जितना कि दूसरे में सामाजिक कार्यकर्ताओं और मनोवैज्ञानिकों द्वारा किए गए हस्तक्षेप के।\n",
      "\n",
      "[[ ## hypothesis ## ]]\n",
      "ऐसे कोई पर्याप्त सबूत नहीं थे जो दिखाते कि किसी सामाजिक कार्यकर्ता या मनोवैज्ञानिक के हस्तक्षेप से बेहतर सफलता मिली थी।\n",
      "\n",
      "\n",
      "\u001b[31mAssistant message:\u001b[0m\n",
      "\n",
      "[[ ## reasoning ## ]]\n",
      "Not supplied for this particular example. \n",
      "\n",
      "[[ ## answer ## ]]\n",
      "Neutral\n",
      "\n",
      "\n",
      "\u001b[31mUser message:\u001b[0m\n",
      "\n",
      "This is an example of the task, though some input or output fields are not supplied.\n",
      "\n",
      "[[ ## premise ## ]]\n",
      "लगभग इंग्लैंड के आकार के क्यूबा को 14 प्रांतों में विभाजित किया गया है और इसमें लगभग 1,500 अपतटीय द्वीप शामिल हैं, जिन्हें केयो (cays या keys) के नाम से जाना जाता है।\n",
      "\n",
      "[[ ## hypothesis ## ]]\n",
      "क्यूबा लगभग इंग्लैंड के आकार का है और 14 प्रांतों में विभाजित है।\n",
      "\n",
      "\n",
      "\u001b[31mAssistant message:\u001b[0m\n",
      "\n",
      "[[ ## reasoning ## ]]\n",
      "Not supplied for this particular example. \n",
      "\n",
      "[[ ## answer ## ]]\n",
      "Yes\n",
      "\n",
      "\n",
      "\u001b[31mUser message:\u001b[0m\n",
      "\n",
      "This is an example of the task, though some input or output fields are not supplied.\n",
      "\n",
      "[[ ## premise ## ]]\n",
      "उसकी मुस्कराहट के गुण में कुछ ऐसा था जिसने लड़की की सामान्य तत्परता को उसे छोड़ दिया।\n",
      "\n",
      "[[ ## hypothesis ## ]]\n",
      "उसे उसकी मुस्कान अप्रिय और असहज लगी।\n",
      "\n",
      "\n",
      "\u001b[31mAssistant message:\u001b[0m\n",
      "\n",
      "[[ ## reasoning ## ]]\n",
      "Not supplied for this particular example. \n",
      "\n",
      "[[ ## answer ## ]]\n",
      "No\n",
      "\n",
      "\n",
      "\u001b[31mUser message:\u001b[0m\n",
      "\n",
      "This is an example of the task, though some input or output fields are not supplied.\n",
      "\n",
      "[[ ## premise ## ]]\n",
      "परिकिया से 20 मिनट की फेरी यात्रा या पैरोसे पश्चिमी तट पर छोटे बंदरगाह पाउंडा से पांच मिनट की कार फेरी यात्रा द्वारा एंटीपैरोसियन पहुंचा जा सकता है।\n",
      "\n",
      "[[ ## hypothesis ## ]]\n",
      "प्रतिपारसी तक पहुंचना असंभव है।\n",
      "\n",
      "\n",
      "\u001b[31mAssistant message:\u001b[0m\n",
      "\n",
      "[[ ## reasoning ## ]]\n",
      "Not supplied for this particular example. \n",
      "\n",
      "[[ ## answer ## ]]\n",
      "No\n",
      "\n",
      "\n",
      "\u001b[31mUser message:\u001b[0m\n",
      "\n",
      "[[ ## premise ## ]]\n",
      "कल लो और आज Severn आप खदानों को दिखाने के लिए कहते हैं.\n",
      "\n",
      "[[ ## hypothesis ## ]]\n",
      "कल सेवर्न से दूर के रूप में आप प्राप्त कर सकते हैं ले लो.\n",
      "\n",
      "\n",
      "\u001b[31mAssistant message:\u001b[0m\n",
      "\n",
      "[[ ## reasoning ## ]]\n",
      "The premise suggests that someone is asking to show mines today, while the hypothesis implies a distance from Severn tomorrow. There is no direct logical connection between the two statements, as the premise does not support the idea of being far from Severn.\n",
      "\n",
      "[[ ## answer ## ]]\n",
      "No\n",
      "\n",
      "\n",
      "\u001b[31mUser message:\u001b[0m\n",
      "\n",
      "[[ ## premise ## ]]\n",
      "सिंध और पंजाब के अफगान गवर्नर, जो दिल्ली के सुल्तान इब्राहिम लोदी की अपेक्षा अधिक स्वायत्तता की उम्मीद कर रहे थे, इसलिए काबुल के राजा बाबर से मिले।\n",
      "\n",
      "[[ ## hypothesis ## ]]\n",
      "बाबर द टाइगर ने दिल्ली पर शासन किया।\n",
      "\n",
      "\n",
      "\u001b[31mAssistant message:\u001b[0m\n",
      "\n",
      "[[ ## reasoning ## ]]\n",
      "The premise discusses the Afghan governors of Sindh and Punjab seeking more autonomy from Sultan Ibrahim Lodi of Delhi and meeting with King Babur. However, it does not provide any information that directly supports the hypothesis that Babur ruled over Delhi. In fact, Babur is known to have established the Mughal Empire after defeating Ibrahim Lodi in the First Battle of Panipat, but the premise does not explicitly state this. Therefore, we cannot conclude that Babur ruled Delhi based solely on the information given in the premise.\n",
      "\n",
      "[[ ## answer ## ]]\n",
      "No\n",
      "\n",
      "\n",
      "\u001b[31mUser message:\u001b[0m\n",
      "\n",
      "[[ ## premise ## ]]\n",
      "तो क्या आप अपने पिता आप के साथ था की तुलना में अपने पति को अधिक शामिल पाते हैं?\n",
      "\n",
      "[[ ## hypothesis ## ]]\n",
      "जब तुम्हारे पिता ने आत्महत्या कर ली तो तुम्हें कैसा लगा?\n",
      "\n",
      "\n",
      "\u001b[31mAssistant message:\u001b[0m\n",
      "\n",
      "[[ ## reasoning ## ]]\n",
      "The premise asks about the involvement of a husband compared to a father, while the hypothesis questions the feelings related to a father's suicide. There is no logical connection between the two statements, as the premise does not provide any information about the father's suicide or the feelings associated with it.\n",
      "\n",
      "[[ ## answer ## ]]\n",
      "No\n",
      "\n",
      "\n",
      "\u001b[31mUser message:\u001b[0m\n",
      "\n",
      "[[ ## premise ## ]]\n",
      "रॉबर्ट कैनेडी का अपने ही खून के नशे में पड़ा हुआ दृश्य लगभग 30 वर्षों से अपने परिवार की भावनाओं के बारे में न्यूनतम आपत्ति या चिंता के साथ नियमित रूप से पुनः प्रस्तुत किया जा रहा है।\n",
      "\n",
      "[[ ## hypothesis ## ]]\n",
      "राबर्ट के परिवार को मीडिया में उनकी छवि का इस्तेमाल करने में कोई आपत्ति नहीं है.\n",
      "\n",
      "\n",
      "\u001b[31mAssistant message:\u001b[0m\n",
      "\n",
      "[[ ## reasoning ## ]]\n",
      "प्रस्तावना में कहा गया है कि रॉबर्ट कैनेडी का दृश्य उनके परिवार की भावनाओं के बारे में न्यूनतम आपत्ति या चिंता के साथ नियमित रूप से पुनः प्रस्तुत किया जा रहा है। इसका मतलब यह हो सकता है कि परिवार को मीडिया में उनकी छवि का इस्तेमाल करने में कोई विशेष आपत्ति नहीं है, लेकिन यह स्पष्ट नहीं है कि वे पूरी तरह से सहमत हैं या नहीं। इसलिए, यह निष्कर्ष निकालना कि परिवार को कोई आपत्ति नहीं है, पूरी तरह से सही नहीं है।\n",
      "\n",
      "[[ ## answer ## ]]\n",
      "Neutral\n",
      "\n",
      "\n",
      "\u001b[31mUser message:\u001b[0m\n",
      "\n",
      "[[ ## premise ## ]]\n",
      "रिसॉर्ट के केंद्र में, भीतरी लैगून के आश्रय वाले पानी में, डॉल्फ़िन कार्यक्रम के साथ एक तैराकी है।\n",
      "\n",
      "[[ ## hypothesis ## ]]\n",
      "आप रिसॉर्ट में डोफिन के साथ तैर सकते हैं।\n",
      "\n",
      "Respond with the corresponding output fields, starting with the field `[[ ## reasoning ## ]]`, then `[[ ## answer ## ]]`, and then ending with the marker for `[[ ## completed ## ]]`.\n",
      "\n",
      "\n",
      "\u001b[31mResponse:\u001b[0m\n",
      "\n",
      "\u001b[32m[[ ## reasoning ## ]]\n",
      "The premise states that there is a swimming program with dolphins in the sheltered waters of the inner lagoon at the resort. This implies that it is indeed possible to swim with dolphins at the resort, supporting the hypothesis that you can swim with dolphins there.\n",
      "\n",
      "[[ ## answer ## ]]\n",
      "Yes\n",
      "\n",
      "[[ ## completed ## ]]\u001b[0m\n",
      "\n",
      "\n",
      "\n",
      "\n",
      "\n"
     ]
    }
   ],
   "source": [
    "cot_fewshot.inspect_history(n=1)"
   ]
  },
  {
   "cell_type": "code",
   "execution_count": null,
   "id": "8696dd5c-006b-45bd-bc21-c728eddc2065",
   "metadata": {},
   "outputs": [],
   "source": []
  }
 ],
 "metadata": {
  "kernelspec": {
   "display_name": "Python 3 (ipykernel)",
   "language": "python",
   "name": "python3"
  },
  "language_info": {
   "codemirror_mode": {
    "name": "ipython",
    "version": 3
   },
   "file_extension": ".py",
   "mimetype": "text/x-python",
   "name": "python",
   "nbconvert_exporter": "python",
   "pygments_lexer": "ipython3",
   "version": "3.10.12"
  }
 },
 "nbformat": 4,
 "nbformat_minor": 5
}
